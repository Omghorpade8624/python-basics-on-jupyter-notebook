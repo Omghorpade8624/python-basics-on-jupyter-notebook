{
 "cells": [
  {
   "cell_type": "markdown",
   "id": "a231a26e-b493-4cc1-89a0-cf9e9eaaa56e",
   "metadata": {},
   "source": [
    "# COMMON PYTHON ERRORS\n",
    "\n",
    "  Errors in python are normal and can be handeled by various methods and very simple to solve \n",
    "\n",
    "  Some basic python errors are \n",
    "\n",
    "    1. indentation error;  indentation errors in python occour in pythone code due to space tabs given by the programers in code and can be treated by ensuring a consistent indentent \n",
    "\n",
    "    "
   ]
  },
  {
   "cell_type": "markdown",
   "id": "4b5e801f-4393-494d-9996-30ad8c20e339",
   "metadata": {},
   "source": [
    "### 1.Indentation errors"
   ]
  },
  {
   "cell_type": "code",
   "execution_count": 14,
   "id": "d483c670-dbdf-43e8-a0ae-622d3899febf",
   "metadata": {},
   "outputs": [
    {
     "ename": "IndentationError",
     "evalue": "expected an indented block after 'if' statement on line 3 (1742653571.py, line 4)",
     "output_type": "error",
     "traceback": [
      "\u001b[1;36m  Cell \u001b[1;32mIn[14], line 4\u001b[1;36m\u001b[0m\n\u001b[1;33m    print(\"Five is greater than two!\")\u001b[0m\n\u001b[1;37m    ^\u001b[0m\n\u001b[1;31mIndentationError\u001b[0m\u001b[1;31m:\u001b[0m expected an indented block after 'if' statement on line 3\n"
     ]
    }
   ],
   "source": [
    "#indentation error\n",
    "\n",
    "if 5 > 2:\n",
    "print(\"Five is greater than two!\")"
   ]
  },
  {
   "cell_type": "markdown",
   "id": "17c137ea-d13a-42d3-80ec-b33d1776947c",
   "metadata": {},
   "source": [
    "### Treating indentation error"
   ]
  },
  {
   "cell_type": "code",
   "execution_count": 15,
   "id": "9ca04c1b-c9ba-4660-a53c-5a5fa24c5878",
   "metadata": {},
   "outputs": [
    {
     "name": "stdout",
     "output_type": "stream",
     "text": [
      "Five is greater than two!\n"
     ]
    }
   ],
   "source": [
    "if 5 > 2:\n",
    "  print(\"Five is greater than two!\")\n"
   ]
  },
  {
   "cell_type": "markdown",
   "id": "197401d8-7996-431d-80c5-6e517a41f935",
   "metadata": {},
   "source": [
    "### 2.Name errors\n",
    "\n",
    "      A Name error in Python occurs when the interpreter encounters a name that it does not recognize. This typically happens when a variable or function is used before it is defined, or when there is a type in the name."
   ]
  },
  {
   "cell_type": "code",
   "execution_count": 17,
   "id": "2f1725a1-f370-4c3f-be75-74900f31548c",
   "metadata": {},
   "outputs": [
    {
     "ename": "NameError",
     "evalue": "name 'm' is not defined",
     "output_type": "error",
     "traceback": [
      "\u001b[1;31m---------------------------------------------------------------------------\u001b[0m",
      "\u001b[1;31mNameError\u001b[0m                                 Traceback (most recent call last)",
      "Cell \u001b[1;32mIn[17], line 3\u001b[0m\n\u001b[0;32m      1\u001b[0m \u001b[38;5;66;03m#name error\u001b[39;00m\n\u001b[0;32m      2\u001b[0m x\u001b[38;5;241m=\u001b[39m\u001b[38;5;241m7\u001b[39m\n\u001b[1;32m----> 3\u001b[0m y\u001b[38;5;241m=\u001b[39m\u001b[38;5;241m7\u001b[39m\u001b[38;5;241m+\u001b[39m\u001b[43mm\u001b[49m\n",
      "\u001b[1;31mNameError\u001b[0m: name 'm' is not defined"
     ]
    }
   ],
   "source": [
    "#name error\n",
    "x=7\n",
    "y=7+m\n"
   ]
  },
  {
   "cell_type": "markdown",
   "id": "85a1dd24-758b-4df2-a208-e0e8f5216806",
   "metadata": {},
   "source": [
    "#### Name Errors treating"
   ]
  },
  {
   "cell_type": "code",
   "execution_count": 18,
   "id": "87599830-581f-4858-95a2-aa460773cf1e",
   "metadata": {},
   "outputs": [
    {
     "name": "stdout",
     "output_type": "stream",
     "text": [
      "13\n"
     ]
    }
   ],
   "source": [
    "#treating\n",
    "x=7\n",
    "m=6\n",
    "y=7+m\n",
    "print(y)"
   ]
  },
  {
   "cell_type": "markdown",
   "id": "d8f25a29-6a90-4e75-ab89-0c51c0123f2e",
   "metadata": {},
   "source": [
    "## 3.value error\n",
    "\n",
    "      Value error in Python is occured when a function receives an argument of the correct type but an inappropriate value. This exception is common in scenarios where the value provided does not meet the expected criteria for a function or operation."
   ]
  },
  {
   "cell_type": "code",
   "execution_count": 22,
   "id": "8c582d68-6398-487f-8968-764f47513300",
   "metadata": {},
   "outputs": [
    {
     "name": "stdout",
     "output_type": "stream",
     "text": [
      "34\n"
     ]
    },
    {
     "ename": "ValueError",
     "evalue": "could not convert string to float: 'om'",
     "output_type": "error",
     "traceback": [
      "\u001b[1;31m---------------------------------------------------------------------------\u001b[0m",
      "\u001b[1;31mValueError\u001b[0m                                Traceback (most recent call last)",
      "Cell \u001b[1;32mIn[22], line 5\u001b[0m\n\u001b[0;32m      3\u001b[0m b \u001b[38;5;241m=\u001b[39m \u001b[38;5;124m\"\u001b[39m\u001b[38;5;124mom\u001b[39m\u001b[38;5;124m\"\u001b[39m\n\u001b[0;32m      4\u001b[0m \u001b[38;5;28mprint\u001b[39m(\u001b[38;5;28mint\u001b[39m(a)) \n\u001b[1;32m----> 5\u001b[0m \u001b[38;5;28mprint\u001b[39m(\u001b[38;5;28;43mfloat\u001b[39;49m\u001b[43m(\u001b[49m\u001b[43mb\u001b[49m\u001b[43m)\u001b[49m) \n",
      "\u001b[1;31mValueError\u001b[0m: could not convert string to float: 'om'"
     ]
    }
   ],
   "source": [
    "# value error\n",
    "a = 34.8\n",
    "b = \"om\"\n",
    "print(int(a)) \n",
    "print(float(b)) "
   ]
  },
  {
   "cell_type": "markdown",
   "id": "57d095cc-06cd-4206-bed5-c8bff0cfb835",
   "metadata": {},
   "source": [
    "### Treating value error"
   ]
  },
  {
   "cell_type": "code",
   "execution_count": 24,
   "id": "efaa2c74-97c7-46ef-a78d-3d97df1c6665",
   "metadata": {},
   "outputs": [
    {
     "name": "stdout",
     "output_type": "stream",
     "text": [
      "34\n",
      "44.0\n"
     ]
    }
   ],
   "source": [
    "#treating value errors \n",
    "a = 34.8\n",
    "b = 44\n",
    "print(int(a)) \n",
    "print(float(b)) "
   ]
  },
  {
   "cell_type": "markdown",
   "id": "35616d7e-0684-4b38-965f-269cac69d660",
   "metadata": {},
   "source": [
    "## 4.Type errors\n",
    "     A Type error in Python is an exception that occurs when an operation or function is applied to an object of an inappropriate type. This typically happens when you try to perform operations between incompatible data types or call a non-callable object."
   ]
  },
  {
   "cell_type": "code",
   "execution_count": 31,
   "id": "dbffcc4c-5853-4575-9d85-db360704fbbe",
   "metadata": {},
   "outputs": [
    {
     "ename": "TypeError",
     "evalue": "can only concatenate list (not \"tuple\") to list",
     "output_type": "error",
     "traceback": [
      "\u001b[1;31m---------------------------------------------------------------------------\u001b[0m",
      "\u001b[1;31mTypeError\u001b[0m                                 Traceback (most recent call last)",
      "Cell \u001b[1;32mIn[31], line 4\u001b[0m\n\u001b[0;32m      2\u001b[0m list1 \u001b[38;5;241m=\u001b[39m [\u001b[38;5;241m1\u001b[39m, \u001b[38;5;241m2\u001b[39m, \u001b[38;5;241m3\u001b[39m]\n\u001b[0;32m      3\u001b[0m list2 \u001b[38;5;241m=\u001b[39m (\u001b[38;5;241m4\u001b[39m, \u001b[38;5;241m5\u001b[39m, \u001b[38;5;241m6\u001b[39m)\n\u001b[1;32m----> 4\u001b[0m myResult \u001b[38;5;241m=\u001b[39m \u001b[43mlist1\u001b[49m\u001b[43m \u001b[49m\u001b[38;5;241;43m+\u001b[39;49m\u001b[43m \u001b[49m\u001b[43mlist2\u001b[49m\n\u001b[0;32m      5\u001b[0m \u001b[38;5;28mprint\u001b[39m(\u001b[38;5;124m\"\u001b[39m\u001b[38;5;124mFirst list is:\u001b[39m\u001b[38;5;124m\"\u001b[39m, list1)\n\u001b[0;32m      6\u001b[0m \u001b[38;5;28mprint\u001b[39m(\u001b[38;5;124m\"\u001b[39m\u001b[38;5;124msecond list is:\u001b[39m\u001b[38;5;124m\"\u001b[39m, list2)\n",
      "\u001b[1;31mTypeError\u001b[0m: can only concatenate list (not \"tuple\") to list"
     ]
    }
   ],
   "source": [
    "#type error\n",
    "list1 = [1, 2, 3]\n",
    "list2 = (4, 5, 6)\n",
    "myResult = list1 + list2\n",
    "print(\"First list is:\", list1)\n",
    "print(\"second list is:\", list2)\n",
    "print(\"Resultant list is:\", myResult) "
   ]
  },
  {
   "cell_type": "markdown",
   "id": "09165df4-d9b9-45d3-8739-f806b8ca6ee9",
   "metadata": {},
   "source": [
    "### treating Type error"
   ]
  },
  {
   "cell_type": "code",
   "execution_count": 32,
   "id": "42db4e2d-25f5-439c-89c5-519a6fb3209a",
   "metadata": {},
   "outputs": [
    {
     "name": "stdout",
     "output_type": "stream",
     "text": [
      "First list is: [1, 2, 3]\n",
      "second list is: [4, 5, 6]\n",
      "Resultant list is: [1, 2, 3, 4, 5, 6]\n"
     ]
    }
   ],
   "source": [
    "#treating type error\n",
    "list1 = [1, 2, 3]\n",
    "list2 = [4, 5, 6]\n",
    "myResult = list1 + list2\n",
    "print(\"First list is:\", list1)\n",
    "print(\"second list is:\", list2)\n",
    "print(\"Resultant list is:\", myResult)"
   ]
  },
  {
   "cell_type": "markdown",
   "id": "6e0e7691-e138-4536-b940-6f76485586b0",
   "metadata": {},
   "source": [
    "## 3.Index errors\n",
    "\n",
    "      An Index error in Python occurs when you try to access an element from a list, tuple, or any other sequence using an index that is outside the valid range of indices for that sequence. This is a common exception that can be encountered in various scenarios.\n"
   ]
  },
  {
   "cell_type": "code",
   "execution_count": 36,
   "id": "cca4d31a-c7ac-46c7-904b-6041375e5dde",
   "metadata": {},
   "outputs": [
    {
     "ename": "IndexError",
     "evalue": "list index out of range",
     "output_type": "error",
     "traceback": [
      "\u001b[1;31m---------------------------------------------------------------------------\u001b[0m",
      "\u001b[1;31mIndexError\u001b[0m                                Traceback (most recent call last)",
      "Cell \u001b[1;32mIn[36], line 4\u001b[0m\n\u001b[0;32m      1\u001b[0m \u001b[38;5;66;03m#index error\u001b[39;00m\n\u001b[0;32m      3\u001b[0m \u001b[38;5;28mlist\u001b[39m\u001b[38;5;241m=\u001b[39m[\u001b[38;5;241m1\u001b[39m,\u001b[38;5;241m2\u001b[39m,\u001b[38;5;241m3\u001b[39m]\n\u001b[1;32m----> 4\u001b[0m \u001b[38;5;28mprint\u001b[39m(\u001b[38;5;28;43mlist\u001b[39;49m\u001b[43m[\u001b[49m\u001b[38;5;241;43m5\u001b[39;49m\u001b[43m]\u001b[49m)\n",
      "\u001b[1;31mIndexError\u001b[0m: list index out of range"
     ]
    }
   ],
   "source": [
    "#index error\n",
    "\n",
    "list=[1,2,3]\n",
    "print(list[5])"
   ]
  },
  {
   "cell_type": "markdown",
   "id": "4598cb76-4230-4000-81ff-d2b94a3ee810",
   "metadata": {},
   "source": [
    "### Treating index errors"
   ]
  },
  {
   "cell_type": "code",
   "execution_count": 37,
   "id": "7193cc96-0f0f-4c78-aca0-eadd77d5be7a",
   "metadata": {},
   "outputs": [
    {
     "name": "stdout",
     "output_type": "stream",
     "text": [
      "2\n"
     ]
    }
   ],
   "source": [
    "# treating index\n",
    "list=[1,2,3]\n",
    "print(list[1])"
   ]
  },
  {
   "cell_type": "markdown",
   "id": "2e196d34-1068-4bc1-a51f-bdf192c0c3c2",
   "metadata": {},
   "source": [
    "## 4.Key error\n",
    "\n",
    "      A Key error in Python is an exception that occurs when you try to access a key that isn't present in a dictionary. This is a common error encountered by beginners and can be easily handled with a few techniques."
   ]
  },
  {
   "cell_type": "code",
   "execution_count": 42,
   "id": "4d88be53-eb2d-411e-9688-87c4b2112fce",
   "metadata": {},
   "outputs": [
    {
     "ename": "KeyError",
     "evalue": "'nishad'",
     "output_type": "error",
     "traceback": [
      "\u001b[1;31m---------------------------------------------------------------------------\u001b[0m",
      "\u001b[1;31mKeyError\u001b[0m                                  Traceback (most recent call last)",
      "Cell \u001b[1;32mIn[42], line 3\u001b[0m\n\u001b[0;32m      1\u001b[0m \u001b[38;5;66;03m#key error\u001b[39;00m\n\u001b[0;32m      2\u001b[0m ages \u001b[38;5;241m=\u001b[39m {\u001b[38;5;124m'\u001b[39m\u001b[38;5;124mom\u001b[39m\u001b[38;5;124m'\u001b[39m: \u001b[38;5;241m30\u001b[39m, \u001b[38;5;124m'\u001b[39m\u001b[38;5;124mjay\u001b[39m\u001b[38;5;124m'\u001b[39m: \u001b[38;5;241m28\u001b[39m, \u001b[38;5;124m'\u001b[39m\u001b[38;5;124mdon\u001b[39m\u001b[38;5;124m'\u001b[39m: \u001b[38;5;241m33\u001b[39m}\n\u001b[1;32m----> 3\u001b[0m \u001b[38;5;28mprint\u001b[39m(\u001b[43mages\u001b[49m\u001b[43m[\u001b[49m\u001b[38;5;124;43m'\u001b[39;49m\u001b[38;5;124;43mnishad\u001b[39;49m\u001b[38;5;124;43m'\u001b[39;49m\u001b[43m]\u001b[49m)\n",
      "\u001b[1;31mKeyError\u001b[0m: 'nishad'"
     ]
    }
   ],
   "source": [
    "#key error\n",
    "ages = {'om': 30, 'jay': 28, 'don': 33}\n",
    "print(ages['nishad'])"
   ]
  },
  {
   "cell_type": "markdown",
   "id": "05950441-0e44-4efb-9b4b-27522eddb5cf",
   "metadata": {},
   "source": [
    "### Treating Key error"
   ]
  },
  {
   "cell_type": "code",
   "execution_count": 44,
   "id": "0e966f10-e35b-4246-a889-570331ab13ca",
   "metadata": {},
   "outputs": [
    {
     "name": "stdout",
     "output_type": "stream",
     "text": [
      "30\n"
     ]
    }
   ],
   "source": [
    "#treating error\n",
    "\n",
    "ages = {'om': 30, 'jay': 28, 'don': 33}\n",
    "print(ages['om'])"
   ]
  },
  {
   "cell_type": "code",
   "execution_count": null,
   "id": "5b44ab99-bb2b-4724-b4a5-8e6a67bdc231",
   "metadata": {},
   "outputs": [],
   "source": []
  }
 ],
 "metadata": {
  "kernelspec": {
   "display_name": "Python 3 (ipykernel)",
   "language": "python",
   "name": "python3"
  },
  "language_info": {
   "codemirror_mode": {
    "name": "ipython",
    "version": 3
   },
   "file_extension": ".py",
   "mimetype": "text/x-python",
   "name": "python",
   "nbconvert_exporter": "python",
   "pygments_lexer": "ipython3",
   "version": "3.13.1"
  }
 },
 "nbformat": 4,
 "nbformat_minor": 5
}
