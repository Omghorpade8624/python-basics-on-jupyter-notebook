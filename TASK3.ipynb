{
 "cells": [
  {
   "cell_type": "markdown",
   "id": "816e4121-4c35-4e43-bc72-4295193ba600",
   "metadata": {},
   "source": [
    "# Task:3\n",
    "Used define function \n",
    "\n",
    "1). Write a Python function to find the maximum of from given \n",
    "\n",
    "2)Write a Python function to sum all the numbers in a list.  Sample List : [8, 2, 3, 0, 7] Expected Output : 20 \n",
    "\n",
    "3)Write a Python function that takes a list and returns a new list with distinct elements from the first list.  Sample List : [1,2,3,3,3,3,4,5] Unique List : [1, 2, 3, 4, 5]\n",
    "\n",
    "4)Write a Python function total number of  Combinations. \n",
    "\n",
    "Ex. a,b,c\n",
    "Ans: 4 : ab,ac,bc,ac \n",
    "\n",
    "5)Write a Python function total number of  permutation \n",
    "Ex. a,b,c\n",
    "And: 6 : ab,ac,ba,bc,ca,cb \n",
    "\n",
    "6)Exercise 5: Define a function which counts vowels and consonant in a word.\n",
    "  input :  statistics \n",
    "Expected output : Count of vowel is = 3 Count of consonant is = 7\n",
    "\n",
    "7): Define a function that accepts lowercase words and returns uppercase words.\n",
    " Input:= statistics \n",
    "Expected output  Result is = STATISTICS \n",
    "\n",
    "8). count lower case and upper case  letter.\n",
    "Ex : STatiStiCS\n",
    "Ans: upper case :5\n",
    "Lower case: 5"
   ]
  },
  {
   "cell_type": "markdown",
   "id": "96e3ebb5-daba-46fd-9f64-3ae3a2d45a36",
   "metadata": {},
   "source": [
    "## solution for 1"
   ]
  },
  {
   "cell_type": "code",
   "execution_count": 1,
   "id": "c3a6eef6-f745-4429-a80c-1d32af1fd4bf",
   "metadata": {},
   "outputs": [
    {
     "name": "stdout",
     "output_type": "stream",
     "text": [
      "maximum value is  70\n"
     ]
    }
   ],
   "source": [
    "#solution\n",
    "list=[12,34,55,70,22]\n",
    "maximum=max(list)\n",
    "print(\"maximum value is \",maximum)\n",
    "\n"
   ]
  },
  {
   "cell_type": "markdown",
   "id": "08797760-243b-4d03-a290-f41ef1032ce0",
   "metadata": {},
   "source": [
    "## solution for 2"
   ]
  },
  {
   "cell_type": "code",
   "execution_count": 3,
   "id": "ab02adfe-f22b-4ece-b562-13199cfbea8b",
   "metadata": {},
   "outputs": [
    {
     "name": "stdout",
     "output_type": "stream",
     "text": [
      "sum of all the number in a list = 150\n"
     ]
    }
   ],
   "source": [
    "#solution\n",
    "list=[10,20,30,40,50]\n",
    "addition = sum(list)\n",
    "print(\"sum of all the number in a list =\", addition)"
   ]
  },
  {
   "cell_type": "markdown",
   "id": "752d17b9-cdd6-49e3-a9d0-01f932f1f996",
   "metadata": {},
   "source": [
    "## solution for 3"
   ]
  },
  {
   "cell_type": "code",
   "execution_count": 32,
   "id": "993d5717-9afd-4046-9567-5eadcd06be02",
   "metadata": {},
   "outputs": [
    {
     "name": "stdout",
     "output_type": "stream",
     "text": [
      "{70, 40, 10, 50, 20, 60, 30}\n"
     ]
    }
   ],
   "source": [
    "#solution  \n",
    "list=[10,20,30,40,50,50,50,60,70]\n",
    "def new_list(list):\n",
    "    b=[]\n",
    "    b=(set(list))\n",
    "    print(b)\n",
    "new_list(list)    "
   ]
  },
  {
   "cell_type": "markdown",
   "id": "e14688e4-1c9e-405d-ba64-6e862a382ed6",
   "metadata": {},
   "source": [
    "## solution for 3 or"
   ]
  },
  {
   "cell_type": "code",
   "execution_count": 41,
   "id": "76277eff-1988-4bf2-99b4-07bd2b443209",
   "metadata": {},
   "outputs": [
    {
     "name": "stdout",
     "output_type": "stream",
     "text": [
      "{50, 20, 70, 40, 10, 60, 30}\n",
      "<function new_list at 0x0000012B466DD800>\n"
     ]
    }
   ],
   "source": [
    "list = [10,20,30,40,50,50,50,60,70]\n",
    "list = new_list(dict.fromkeys(list))\n",
    "print(new_list)"
   ]
  },
  {
   "cell_type": "markdown",
   "id": "fc613108-eadf-4965-8470-2638264448b4",
   "metadata": {},
   "source": [
    "## solution for 4"
   ]
  },
  {
   "cell_type": "code",
   "execution_count": 44,
   "id": "26403f7f-45f0-415f-a8e0-7015ed2221b1",
   "metadata": {},
   "outputs": [
    {
     "name": "stdin",
     "output_type": "stream",
     "text": [
      "enter the numbers 456\n"
     ]
    },
    {
     "name": "stdout",
     "output_type": "stream",
     "text": [
      "4 5 6 4 5\n",
      "4 5 6 4 6\n",
      "4 5 6 5 4\n",
      "4 5 6 5 6\n",
      "4 5 6 6 4\n",
      "4 5 6 6 5\n",
      "4 6 5 4 5\n",
      "4 6 5 4 6\n",
      "4 6 5 5 4\n",
      "4 6 5 5 6\n",
      "4 6 5 6 4\n",
      "4 6 5 6 5\n",
      "5 4 6 4 5\n",
      "5 4 6 4 6\n",
      "5 4 6 5 4\n",
      "5 4 6 5 6\n",
      "5 4 6 6 4\n",
      "5 4 6 6 5\n",
      "5 6 4 4 5\n",
      "5 6 4 4 6\n",
      "5 6 4 5 4\n",
      "5 6 4 5 6\n",
      "5 6 4 6 4\n",
      "5 6 4 6 5\n",
      "6 4 5 4 5\n",
      "6 4 5 4 6\n",
      "6 4 5 5 4\n",
      "6 4 5 5 6\n",
      "6 4 5 6 4\n",
      "6 4 5 6 5\n",
      "6 5 4 4 5\n",
      "6 5 4 4 6\n",
      "6 5 4 5 4\n",
      "6 5 4 5 6\n",
      "6 5 4 6 4\n",
      "6 5 4 6 5\n"
     ]
    }
   ],
   "source": [
    "def comb(L):\n",
    "    n = len(L)\n",
    "    for i in range(n): \n",
    "        for j in range(n): \n",
    "            for k in range(n):  \n",
    "                for l in range(n):\n",
    "                    for m in range(n):\n",
    "                        if (i!=j and j!=k and i!=k and n!=m and m!=l): \n",
    "                            print(L[i], L[j], L[k], L[l], L[m])\n",
    "comb(input(\"enter the numbers\"))"
   ]
  },
  {
   "cell_type": "markdown",
   "id": "cc6bb47e-41d9-4f63-80d5-e22a543601ac",
   "metadata": {},
   "source": [
    "## solution for 5"
   ]
  },
  {
   "cell_type": "code",
   "execution_count": 43,
   "id": "f3d4ac2f-1c1a-46e9-b886-1975e75eefae",
   "metadata": {},
   "outputs": [
    {
     "name": "stdout",
     "output_type": "stream",
     "text": [
      "['1234', '1243', '1324', '1342', '1423', '1432', '2134', '2143', '2314', '2341', '2413', '2431', '3124', '3142', '3214', '3241', '3412', '3421', '4123', '4132', '4213', '4231', '4312', '4321']\n"
     ]
    }
   ],
   "source": [
    "# solution\n",
    "import itertools\n",
    "\n",
    "\n",
    "def permutation(s):\n",
    "    li = [''.join(p) for p in itertools.permutations(s)]\n",
    "    return print(li)\n",
    "s = (\"1\",\"2\",\"3\",\"4\")\n",
    "permutation(s)"
   ]
  },
  {
   "cell_type": "markdown",
   "id": "60b217ce-d7ab-423b-b5c5-09ef46aff465",
   "metadata": {},
   "source": [
    "## solution for 7"
   ]
  },
  {
   "cell_type": "code",
   "execution_count": 3,
   "id": "d0d28e18-13f4-4d6e-8b07-606659254b9c",
   "metadata": {},
   "outputs": [
    {
     "name": "stdin",
     "output_type": "stream",
     "text": [
      "Enter a word   om\n"
     ]
    },
    {
     "data": {
      "text/plain": [
       "'OM'"
      ]
     },
     "execution_count": 3,
     "metadata": {},
     "output_type": "execute_result"
    }
   ],
   "source": [
    "def uppercase(word):\n",
    "    return word.upper()\n",
    "word = input(\"Enter a word  \")\n",
    "uppercase(word)"
   ]
  },
  {
   "cell_type": "markdown",
   "id": "21311a4c-a5c7-4d8d-818a-cb3b2a85b796",
   "metadata": {},
   "source": [
    "### solution for 8"
   ]
  },
  {
   "cell_type": "code",
   "execution_count": 4,
   "id": "f57ce0d5-f4bc-46ef-8fe3-09763bfbc301",
   "metadata": {},
   "outputs": [
    {
     "name": "stdout",
     "output_type": "stream",
     "text": [
      "Count of Lower-Case is = 5\n",
      "Count of Upper-Case is = 5\n"
     ]
    }
   ],
   "source": [
    "def counting(word):\n",
    "    lower_count=0\n",
    "    upper_count=0\n",
    "    for char in word:\n",
    "        if char.islower():\n",
    "            lower_count+=1\n",
    "        else:\n",
    "            upper_count+=1\n",
    "    print(f\"Count of Lower-Case is = {lower_count}\")\n",
    "    print(f\"Count of Upper-Case is = {upper_count}\")\n",
    "\n",
    "counting(\"STatiStiCS\")"
   ]
  },
  {
   "cell_type": "code",
   "execution_count": null,
   "id": "7d9facfa-95a5-4123-a17c-7a837dca5ae7",
   "metadata": {},
   "outputs": [],
   "source": []
  }
 ],
 "metadata": {
  "kernelspec": {
   "display_name": "Python 3 (ipykernel)",
   "language": "python",
   "name": "python3"
  },
  "language_info": {
   "codemirror_mode": {
    "name": "ipython",
    "version": 3
   },
   "file_extension": ".py",
   "mimetype": "text/x-python",
   "name": "python",
   "nbconvert_exporter": "python",
   "pygments_lexer": "ipython3",
   "version": "3.13.1"
  }
 },
 "nbformat": 4,
 "nbformat_minor": 5
}
