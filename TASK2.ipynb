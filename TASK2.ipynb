{
 "cells": [
  {
   "cell_type": "markdown",
   "id": "a9c5345e-fea8-42fb-8c63-9eb1c59f93ba",
   "metadata": {},
   "source": [
    "# if else statements\n",
    "\n",
    "     in python 'if else' statements are known as condition statements\n",
    "\n",
    "     if statement is written by using \"if\" keyword \n",
    "     and else catches the exception which is catched by preceding conditions\n",
    "\n",
    "\n",
    "     \n",
    "\n",
    "          "
   ]
  },
  {
   "cell_type": "markdown",
   "id": "ecb9e9f4-2e7a-4250-abc1-a594a07831bf",
   "metadata": {},
   "source": [
    "# Problem statement\n",
    "\n",
    "  a) grade code ;   P=50 , O=P>75 , A=60<P>75 , B=50<P<60 , c=35<P<50 , fail=p<35\n",
    "\n",
    "  "
   ]
  },
  {
   "cell_type": "code",
   "execution_count": 35,
   "id": "f86d8932-68e8-4eea-b864-8f68dd4ab140",
   "metadata": {},
   "outputs": [
    {
     "name": "stdin",
     "output_type": "stream",
     "text": [
      "Enter your marks 54\n"
     ]
    },
    {
     "name": "stdout",
     "output_type": "stream",
     "text": [
      "Grade=B\n"
     ]
    }
   ],
   "source": [
    "#solution\n",
    "\n",
    "marks=float(input(\"Enter your marks\"))\n",
    "\n",
    "if marks == 50:                #checking for p=50\n",
    "    print(\"Grade=p\")\n",
    "elif marks >=75:                #checking for  O=P>75\n",
    "    print(\"Grade=O\")\n",
    "elif marks >=60 and marks <75 :  #checking for a=60<p>75\n",
    "    print(\"Grade=A\")\n",
    "elif marks >=50 and marks<60:    # checking for B=50<P<60 \n",
    "    print(\"Grade=B\")\n",
    "elif marks >=35 and marks <50:    # checking for c=35<P<50 \n",
    "    print(\"Grade=C\")\n",
    "else:\n",
    "    print(\"Grade=Fail\")            # checking for    fail=p<35"
   ]
  },
  {
   "cell_type": "markdown",
   "id": "3742d3a6-0846-467f-b7f2-5f2bf745a934",
   "metadata": {},
   "source": [
    "### Problem statement\n",
    "\n",
    "2.n divisible by 2 or 3 n=7\n",
    "\n",
    "2 divisible , 3 not divisible by 2 and 3 divisible 3 , not 2 not divisible by 2 and 3\n",
    "\n"
   ]
  },
  {
   "cell_type": "markdown",
   "id": "8851893a-3e62-4e20-a68d-96f01e6d68c3",
   "metadata": {},
   "source": [
    "### Solution"
   ]
  },
  {
   "cell_type": "code",
   "execution_count": 27,
   "id": "fdda2b47-7208-4ffe-894e-a150582f4035",
   "metadata": {},
   "outputs": [
    {
     "name": "stdout",
     "output_type": "stream",
     "text": [
      "not divisible by 2 , and 3\n"
     ]
    }
   ],
   "source": [
    "# example\n",
    "\n",
    "n = 7\n",
    "if n % 2 == 0 and n % 3 == 1:\n",
    "    print(\"2 divisible , 3 not divisible\")\n",
    "elif  n % 2 == 0 and n % 3 == 0:\n",
    "    print(\"divisible by 2 , and 3\")\n",
    "elif n % 2 == 1 and n % 3 == 0:  \n",
    "    print(\"divisible by 3 , not divisbile 2\")\n",
    "elif n % 2 == 1 and n % 3 == 1:\n",
    "    print(\"not divisible by 2 , and 3\")\n"
   ]
  },
  {
   "cell_type": "markdown",
   "id": "c1a64aae-80e1-46ee-b9db-393c1dac9bbe",
   "metadata": {},
   "source": [
    "## Other examples "
   ]
  },
  {
   "cell_type": "markdown",
   "id": "6a249432-638d-42fb-bb11-987fbd8d5a5c",
   "metadata": {},
   "source": [
    "### Examples \n",
    "\n",
    "#### if statements\n",
    " \n"
   ]
  },
  {
   "cell_type": "code",
   "execution_count": 37,
   "id": "862d353e-8f49-421b-a53b-477411c57577",
   "metadata": {},
   "outputs": [
    {
     "name": "stdin",
     "output_type": "stream",
     "text": [
      "enter the number -2\n"
     ]
    },
    {
     "name": "stdout",
     "output_type": "stream",
     "text": [
      "number is smaller than 0\n"
     ]
    }
   ],
   "source": [
    "#example 1\n",
    "\n",
    "n = float(input(\"enter the number\"))\n",
    "if n >=0:\n",
    "    print(\"number is greater than 0\")\n",
    "if n <= 0:\n",
    "    print(\"number is smaller than 0\")\n",
    "                \n",
    "                "
   ]
  },
  {
   "cell_type": "code",
   "execution_count": 38,
   "id": "aef20797-1225-4615-8766-2bff2a2011dd",
   "metadata": {},
   "outputs": [
    {
     "name": "stdout",
     "output_type": "stream",
     "text": [
      "a is smaller than b\n"
     ]
    }
   ],
   "source": [
    "# Example 2\n",
    "\n",
    "a=3\n",
    "b=5\n",
    "if a<b:\n",
    "    print(\"a is smaller than b\")"
   ]
  },
  {
   "cell_type": "markdown",
   "id": "332312dd-5706-4e3e-bb92-a81c7a5d3bbf",
   "metadata": {},
   "source": [
    "#### else statements"
   ]
  },
  {
   "cell_type": "code",
   "execution_count": 39,
   "id": "3ef0658c-8f0b-445e-adce-12845a2befa2",
   "metadata": {},
   "outputs": [
    {
     "name": "stdout",
     "output_type": "stream",
     "text": [
      "a is smaller\n"
     ]
    }
   ],
   "source": [
    "#example 1\n",
    "a=3\n",
    "if a>5:\n",
    "    print(\"a is greater\")\n",
    "else:\n",
    "    print(\"a is smaller\")"
   ]
  },
  {
   "cell_type": "code",
   "execution_count": 41,
   "id": "649a9be4-9006-4a45-b754-698e5e5dc8b4",
   "metadata": {},
   "outputs": [
    {
     "name": "stdin",
     "output_type": "stream",
     "text": [
      "enter yor number 855\n"
     ]
    },
    {
     "name": "stdout",
     "output_type": "stream",
     "text": [
      "number is 3 digit\n"
     ]
    }
   ],
   "source": [
    "#example 2\n",
    "\n",
    "number=int(input(\"enter yor number\"))\n",
    "\n",
    "if number > 99 and number <= 999:\n",
    "    print(\"number is 3 digit\")\n",
    "else:\n",
    "    print(\"invalid number\")"
   ]
  },
  {
   "cell_type": "markdown",
   "id": "8d821202-c6e7-40d5-9f65-5f65e0cba1a0",
   "metadata": {},
   "source": [
    "## if elif else statement\n",
    "    "
   ]
  },
  {
   "cell_type": "code",
   "execution_count": 54,
   "id": "476ab887-498c-47d9-b84d-7c50bee6f1df",
   "metadata": {},
   "outputs": [
    {
     "name": "stdin",
     "output_type": "stream",
     "text": [
      "enter signle green\n"
     ]
    },
    {
     "name": "stdout",
     "output_type": "stream",
     "text": [
      "go\n"
     ]
    }
   ],
   "source": [
    "#example 1\n",
    "signle1 = {\"red\":\"stop\",\"green\":\"go\"}\n",
    "signle = str(input(\"enter signle\"))\n",
    "if signle == \"red\" :\n",
    "      print(signle1[\"red\"])\n",
    "elif signle == \"green\":\n",
    "    print(signle1[\"green\"])\n",
    "else:\n",
    "    print(\"invalid input\")"
   ]
  },
  {
   "cell_type": "code",
   "execution_count": 61,
   "id": "3866bee3-d664-44ad-bf51-f4d059ad5160",
   "metadata": {},
   "outputs": [
    {
     "name": "stdin",
     "output_type": "stream",
     "text": [
      "enter the trp rate  5\n"
     ]
    },
    {
     "name": "stdout",
     "output_type": "stream",
     "text": [
      "average\n"
     ]
    }
   ],
   "source": [
    "#example2\n",
    "\n",
    "trp = float(input(\"enter the trp rate \"))\n",
    "if trp >= 8 and trp < 11:\n",
    "    print(\"extra ordinary\")\n",
    "elif trp >= 4 and trp < 8:\n",
    "    print (\"average\")\n"
   ]
  },
  {
   "cell_type": "code",
   "execution_count": null,
   "id": "032d85d1-bc39-4ae0-ae02-942287202922",
   "metadata": {},
   "outputs": [],
   "source": []
  }
 ],
 "metadata": {
  "kernelspec": {
   "display_name": "Python 3 (ipykernel)",
   "language": "python",
   "name": "python3"
  },
  "language_info": {
   "codemirror_mode": {
    "name": "ipython",
    "version": 3
   },
   "file_extension": ".py",
   "mimetype": "text/x-python",
   "name": "python",
   "nbconvert_exporter": "python",
   "pygments_lexer": "ipython3",
   "version": "3.13.1"
  }
 },
 "nbformat": 4,
 "nbformat_minor": 5
}
