{
 "cells": [
  {
   "cell_type": "markdown",
   "id": "4794e70a-79ef-4f53-941e-b61e5bbf00fd",
   "metadata": {},
   "source": [
    "# OPERATORS IN PYTHON\n",
    "\n",
    " \"Arthemetic Operators\"\n",
    "     \n",
    "       Operators      Name\n",
    "      +          Addition\n",
    "      -          Substraction\n",
    "      *          Multiplication\n",
    "      %          Module\n",
    "\n",
    " \"Comparision\"\n",
    "     are used to compare two values.\n",
    "\n",
    "      Operators     Name\n",
    "       ==         Equal\n",
    "       !=         Not Equal\n",
    "       >          Greater Than\n",
    "       <          Lesser Than\n",
    "\n",
    " \"Logical Operators\"\n",
    "       Used for conditional statements\n",
    "\n",
    "       Operators    Description\n",
    "       and          returns true if both statements are true\n",
    "       or           returns true is any one statements is true\n",
    "       not          reverse the value\n",
    "\n",
    " \"Assignments Operators\"\n",
    "        Used to assign values \n",
    "\n",
    "        Operators       \n",
    "        =\n",
    "        +=\n",
    "        -=\n",
    "        *=\n",
    "             "
   ]
  },
  {
   "cell_type": "markdown",
   "id": "c36ca143-30b7-4a19-9c37-d4b0565d572a",
   "metadata": {},
   "source": [
    "## Arthmetics Operators"
   ]
  },
  {
   "cell_type": "code",
   "execution_count": 2,
   "id": "984944d9-0d07-4338-a3f8-ba8dbd315a51",
   "metadata": {},
   "outputs": [
    {
     "name": "stdout",
     "output_type": "stream",
     "text": [
      "add 8\n",
      "sub -2\n",
      "div 0.6\n",
      "modules 3\n"
     ]
    }
   ],
   "source": [
    "#arthmetics operator\n",
    "x=3\n",
    "y=5\n",
    "\n",
    "print(\"add\",x+y) #addition operator\n",
    "print(\"sub\",x-y) #substraction\n",
    "print(\"div\",x/y) #division\n",
    "print(\"modules\", x%y) #modules operator\n"
   ]
  },
  {
   "cell_type": "markdown",
   "id": "f4fd7a84-1fe7-4a44-874d-520d67fe1235",
   "metadata": {},
   "source": [
    "## Comparision Operators"
   ]
  },
  {
   "cell_type": "code",
   "execution_count": 1,
   "id": "f417778d-d4ee-4d26-8842-2e0675958b9c",
   "metadata": {},
   "outputs": [
    {
     "name": "stdout",
     "output_type": "stream",
     "text": [
      "equ False\n",
      "not equ True\n",
      "greater than equ to False\n",
      "lesser than equ to True\n"
     ]
    }
   ],
   "source": [
    "#comparision operator\n",
    "x=6\n",
    "y=8\n",
    "\n",
    "print(\"equ\", x==y) #checks for equiality\n",
    "print(\"not equ\", x!=y) #checks for not equilatiy\n",
    "print(\"greater than equ to\", x>=y)\n",
    "print(\"lesser than equ to\", x<=y)\n",
    "\n",
    "\n",
    "\n",
    "\n",
    "\n"
   ]
  },
  {
   "cell_type": "markdown",
   "id": "de03c2b3-9832-4207-849f-8fd3970d21f4",
   "metadata": {},
   "source": [
    "## Assignment Operators"
   ]
  },
  {
   "cell_type": "code",
   "execution_count": 12,
   "id": "fccfed6d-b2d2-4380-81b4-37e8c9a8b6ee",
   "metadata": {},
   "outputs": [
    {
     "name": "stdout",
     "output_type": "stream",
     "text": [
      "8\n",
      "2\n",
      "6\n"
     ]
    }
   ],
   "source": [
    "#Assignment operator\n",
    "a=3\n",
    "a+=5\n",
    "print(a)\n",
    "\n",
    "b=4\n",
    "b-=2\n",
    "print(b)\n",
    "\n",
    "c=3\n",
    "c*=2\n",
    "print(c)"
   ]
  },
  {
   "cell_type": "markdown",
   "id": "84883a55-74f6-4d52-a021-2dcaa6c0e2b2",
   "metadata": {},
   "source": [
    "## Logical Operators"
   ]
  },
  {
   "cell_type": "code",
   "execution_count": 2,
   "id": "bd9ac6b8-a2d9-4f67-83d6-bbd164df06ea",
   "metadata": {},
   "outputs": [
    {
     "name": "stdout",
     "output_type": "stream",
     "text": [
      "True\n",
      "True\n",
      "True\n"
     ]
    }
   ],
   "source": [
    "#logical operators\n",
    "\n",
    "x=10\n",
    "y=34\n",
    "\n",
    "print(x>5 and y>10) # and logicaal operator returns true if both values are true else return false\n",
    "print(x<8 or y>22) # returns true if any one vales is true\n",
    "print(not(x>5 and y<30))"
   ]
  },
  {
   "cell_type": "code",
   "execution_count": null,
   "id": "7749937d-0578-4c1e-8ece-0a7cd99c7da0",
   "metadata": {},
   "outputs": [],
   "source": []
  }
 ],
 "metadata": {
  "kernelspec": {
   "display_name": "Python 3 (ipykernel)",
   "language": "python",
   "name": "python3"
  },
  "language_info": {
   "codemirror_mode": {
    "name": "ipython",
    "version": 3
   },
   "file_extension": ".py",
   "mimetype": "text/x-python",
   "name": "python",
   "nbconvert_exporter": "python",
   "pygments_lexer": "ipython3",
   "version": "3.13.1"
  }
 },
 "nbformat": 4,
 "nbformat_minor": 5
}
