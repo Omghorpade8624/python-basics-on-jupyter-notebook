{
 "cells": [
  {
   "cell_type": "markdown",
   "id": "6ec85d75-fccf-4bc7-9d52-27e2919999a4",
   "metadata": {},
   "source": [
    "#  NUMBERS IN PYTHON\n",
    " *There are mainly three types of numbers in python\n",
    "      \n",
    "       1.int = int is whole number can be of any length negative or positive ,\n",
    "       but not the decimal number\n",
    "       \n",
    "       2.float= float numbers are nothing but numbers in decimal form .\n",
    "       can be of any length\n",
    "       \n",
    "       3.complex= complex numbers can be define as a number with j .\n",
    "                   for example(2j,where is j is imaginary part)\n",
    "                   \n",
    "  \"We can perform basic arthmetic operation like add, sub, divi.\"     "
   ]
  },
  {
   "cell_type": "markdown",
   "id": "98c2bd74-593f-4725-a542-eed2f4c62c58",
   "metadata": {},
   "source": [
    "# INTEGER / FLOAT /COMPLEX values"
   ]
  },
  {
   "cell_type": "code",
   "execution_count": 2,
   "id": "c6322535-4afe-4d06-b66f-5e1f4080719d",
   "metadata": {},
   "outputs": [
    {
     "name": "stdout",
     "output_type": "stream",
     "text": [
      "output\n",
      "int 4\n",
      "float 1.2\n",
      "complex 5j\n"
     ]
    }
   ],
   "source": [
    "a=4 #integer\n",
    "b=1.2 #float\n",
    "c=5j #complex\n",
    "\n",
    "print(\"output\")\n",
    "print(\"int\", a)\n",
    "print(\"float\" , b)\n",
    "print(\"complex\" , c)\n"
   ]
  },
  {
   "cell_type": "markdown",
   "id": "ef6735cf-6404-4a20-a282-b1993d6ee3c8",
   "metadata": {},
   "source": [
    "# ARTHMETIC OPERTIONS "
   ]
  },
  {
   "cell_type": "code",
   "execution_count": 4,
   "id": "756b18a5-6aa3-4b5b-a30d-de8b578bd9fd",
   "metadata": {
    "scrolled": true
   },
   "outputs": [
    {
     "name": "stdout",
     "output_type": "stream",
     "text": [
      "output\n",
      "addition (6.8+84j)\n",
      "substraction (1.2000000000000002-84j)\n",
      "multiplication 940.8j\n",
      "division 21j\n"
     ]
    }
   ],
   "source": [
    "c=4 #integer\n",
    "d=84j #complex\n",
    "e=2.8 #float\n",
    "\n",
    "print(\"output\")\n",
    "print(\"addition\", c+d+e)       # addition\n",
    "print(\"substraction\", c-d-e)    #substraction\n",
    "print(\"multiplication\", c*d*e)  #multiplication\n",
    "print(\"division\", d/c )         #division\n"
   ]
  },
  {
   "cell_type": "code",
   "execution_count": null,
   "id": "abfbff45-5969-4c27-87f2-661fc239af21",
   "metadata": {},
   "outputs": [],
   "source": []
  }
 ],
 "metadata": {
  "kernelspec": {
   "display_name": "Python 3 (ipykernel)",
   "language": "python",
   "name": "python3"
  },
  "language_info": {
   "codemirror_mode": {
    "name": "ipython",
    "version": 3
   },
   "file_extension": ".py",
   "mimetype": "text/x-python",
   "name": "python",
   "nbconvert_exporter": "python",
   "pygments_lexer": "ipython3",
   "version": "3.13.1"
  }
 },
 "nbformat": 4,
 "nbformat_minor": 5
}
