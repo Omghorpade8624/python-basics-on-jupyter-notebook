{
 "cells": [
  {
   "cell_type": "markdown",
   "id": "c81e40a8-835d-4889-9043-6c03246d8d97",
   "metadata": {},
   "source": [
    "# WHILE LOOP\n",
    "\n",
    "    With the while loop we can execute a set of statements as long as a condition is true.\n",
    "\n",
    "\n",
    "    The while loop requires relevant variables to be ready, in this example we need to define an indexing variable, i, which we set to 1\n"
   ]
  },
  {
   "cell_type": "markdown",
   "id": "14bf1288-8159-49a2-9dd8-75997f86bdb4",
   "metadata": {},
   "source": [
    "## \n",
    "\n",
    "1)odd-even using while loop \n",
    "\n",
    "3) creat list 1-20 numbers list using while loop=> [1,2,3... 20]\n",
    "\n",
    "4)  creat list 20-1 (revers order) using while loop=> [20,19...1]\n",
    "\n",
    "5) try with one any eg. break, contnue , pass control statement"
   ]
  },
  {
   "cell_type": "code",
   "execution_count": 3,
   "id": "a94f2a5f-5207-41c7-b2f1-3e1dfcda3997",
   "metadata": {},
   "outputs": [
    {
     "name": "stdout",
     "output_type": "stream",
     "text": [
      "Even numbers from 1 to 20:\n",
      "2\n",
      "4\n",
      "6\n",
      "8\n",
      "10\n",
      "12\n",
      "14\n",
      "16\n",
      "18\n",
      "20\n",
      "\n",
      "Odd numbers from 1 to 20:\n",
      "1\n",
      "3\n",
      "5\n",
      "7\n",
      "9\n",
      "11\n",
      "13\n",
      "15\n",
      "17\n",
      "19\n"
     ]
    }
   ],
   "source": [
    "#solution for 1\n",
    "\n",
    "\n",
    "print(\"Even numbers from 1 to 20:\") # getting even list of number\n",
    "num = 1\n",
    "while num <= 20:\n",
    "    if num % 2 == 0:\n",
    "        print(num)\n",
    "    num += 1\n",
    "\n",
    "print(\"Odd numbers from 1 to 20:\")\n",
    "num = 1\n",
    "while num <= 20:\n",
    "    if num % 2 != 0:\n",
    "        print(num)\n",
    "    num += 1\n",
    "\n",
    "\n"
   ]
  },
  {
   "cell_type": "code",
   "execution_count": 5,
   "id": "5cf1c0e9-5164-4cb7-aace-2b534dd10901",
   "metadata": {},
   "outputs": [
    {
     "name": "stdout",
     "output_type": "stream",
     "text": [
      "*\n",
      "**\n",
      "***\n",
      "****\n",
      "*****\n"
     ]
    }
   ],
   "source": [
    "# solution for 2\n",
    "n = 5\n",
    "x = 1\n",
    "while x <= n:\n",
    "    print(\"*\" * x)\n",
    "    x += 1"
   ]
  },
  {
   "cell_type": "code",
   "execution_count": 6,
   "id": "dcee8058-0a27-4af5-835c-ca534ab9b70e",
   "metadata": {},
   "outputs": [
    {
     "name": "stdout",
     "output_type": "stream",
     "text": [
      "[1, 2, 3, 4, 5, 6, 7, 8, 9, 10, 11, 12, 13, 14, 15, 16, 17, 18, 19, 20]\n"
     ]
    }
   ],
   "source": [
    "# solution for 3\n",
    "numbers = []  \n",
    "i = 1         # Start from 1\n",
    "\n",
    "while i <= 20:  \n",
    "    numbers.append(i)  # Add the current value of i to the list\n",
    "    i += 1  \n",
    "\n",
    "print(numbers)  "
   ]
  },
  {
   "cell_type": "code",
   "execution_count": null,
   "id": "0c03a2b2-f3fa-4e6d-b587-f3a75cbb4787",
   "metadata": {},
   "outputs": [],
   "source": []
  }
 ],
 "metadata": {
  "kernelspec": {
   "display_name": "Python 3 (ipykernel)",
   "language": "python",
   "name": "python3"
  },
  "language_info": {
   "codemirror_mode": {
    "name": "ipython",
    "version": 3
   },
   "file_extension": ".py",
   "mimetype": "text/x-python",
   "name": "python",
   "nbconvert_exporter": "python",
   "pygments_lexer": "ipython3",
   "version": "3.13.1"
  }
 },
 "nbformat": 4,
 "nbformat_minor": 5
}
