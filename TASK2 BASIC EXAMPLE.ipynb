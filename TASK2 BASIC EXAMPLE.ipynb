{
 "cells": [
  {
   "cell_type": "markdown",
   "id": "b63c1379-b4be-4b6b-8ce6-2d04dda5f190",
   "metadata": {},
   "source": [
    "# SOME EXAMPLE FOR for LOOP\n",
    "\n",
    "## Solve Using if and for loop  and data types methods ; \n",
    "\n",
    "1.Given a list, write a Python code  to swap first and last element of the list.\n",
    "\n",
    "2.write code count lenght of string\n",
    "\n",
    "3.Write a Python program to get the sum of a only non-negative integer. ex, [1,4,-5,-20,10] ans is 15\n",
    "\n",
    "4.write code of factorial , ex.ans 6 (3*2*1)"
   ]
  },
  {
   "cell_type": "markdown",
   "id": "f64c040d-07a5-4a92-9d8f-5984284cce16",
   "metadata": {},
   "source": [
    "## SOLUTION FOR 1"
   ]
  },
  {
   "cell_type": "code",
   "execution_count": 5,
   "id": "4621c372-8260-43cf-a987-40ab6506451f",
   "metadata": {},
   "outputs": [
    {
     "name": "stdout",
     "output_type": "stream",
     "text": [
      "[5, 2, 3, 4, 1]\n"
     ]
    }
   ],
   "source": [
    "#solution\n",
    "\n",
    "list=[1,2,3,4,5]\n",
    "for i in range(len(list)):\n",
    "    if i == 0:\n",
    "        list[i],list[-1] = list[-1],list[i]\n",
    "        break\n",
    "    \n",
    "print (list)"
   ]
  },
  {
   "cell_type": "markdown",
   "id": "bc36ffed-9368-40b1-886d-4276f27cdc2b",
   "metadata": {},
   "source": [
    "## SOLUTION FOR 2"
   ]
  },
  {
   "cell_type": "code",
   "execution_count": 9,
   "id": "602f2364-47ce-45ea-9353-9f5ae481e61a",
   "metadata": {},
   "outputs": [
    {
     "name": "stdout",
     "output_type": "stream",
     "text": [
      "13\n"
     ]
    }
   ],
   "source": [
    "#solution\n",
    "str= [\"my name is om\"]\n",
    "for i in str:\n",
    "    print(len(i))\n",
    "    "
   ]
  },
  {
   "cell_type": "markdown",
   "id": "b3bfcfb7-1c0a-473d-b16f-aa76b7b0a8a4",
   "metadata": {},
   "source": [
    "## SOLUTION FOR 3"
   ]
  },
  {
   "cell_type": "code",
   "execution_count": 25,
   "id": "4a37667e-6641-40cc-b6af-6fd8906201f5",
   "metadata": {},
   "outputs": [
    {
     "name": "stdout",
     "output_type": "stream",
     "text": [
      "12\n"
     ]
    }
   ],
   "source": [
    "#solution\n",
    "list = [1,2,3,-4,-3,6]\n",
    "sum_non_negative=0\n",
    "for i in list:\n",
    "    if i >= 0:\n",
    "        sum_non_negative +=i \n",
    "print(sum_non_negative)"
   ]
  },
  {
   "cell_type": "markdown",
   "id": "a657c856-8927-4cf3-a63e-b4aaac787a31",
   "metadata": {},
   "source": [
    "## SOLUTION FOR 4"
   ]
  },
  {
   "cell_type": "code",
   "execution_count": null,
   "id": "c72ef17a-a5b4-45ff-804d-f894ffdece3f",
   "metadata": {},
   "outputs": [],
   "source": []
  }
 ],
 "metadata": {
  "kernelspec": {
   "display_name": "Python 3 (ipykernel)",
   "language": "python",
   "name": "python3"
  },
  "language_info": {
   "codemirror_mode": {
    "name": "ipython",
    "version": 3
   },
   "file_extension": ".py",
   "mimetype": "text/x-python",
   "name": "python",
   "nbconvert_exporter": "python",
   "pygments_lexer": "ipython3",
   "version": "3.13.1"
  }
 },
 "nbformat": 4,
 "nbformat_minor": 5
}
