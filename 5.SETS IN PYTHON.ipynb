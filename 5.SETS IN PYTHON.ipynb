{
 "cells": [
  {
   "cell_type": "markdown",
   "id": "1ff4f9ee-34ab-45fd-914f-0ee50b6e2b53",
   "metadata": {},
   "source": [
    "# SETS IN PYTHON\n",
    "\n",
    "   Sets use to store multiple items in a single variable.sets are unchangeable but you can remove the items and add new items\n",
    "   no duplication is allowed in sets \n",
    "\n",
    "   SETS OPERATIONS \n",
    "\n",
    "    1.Adding elements; you can add items to set by using add() method\n",
    "\n",
    "    add() method is use to add items in sets\n",
    "\n",
    "    2.Removing elements; you can remove the items from set\n",
    "\n",
    "    remove() or discard() method is use to remove the elements from the set\n",
    "\n",
    "    3.union; union() method is to join all items from two sets\n",
    "\n",
    "    4.Intersection; intersection() method is use to keepl only the duplicates elements from the set\n",
    "\n",
    "    5.difference; difference () method is use the keep only elements which are not present in other sets\n",
    "    "
   ]
  },
  {
   "cell_type": "markdown",
   "id": "bd58af2a-1b4b-417d-a0de-208178616a05",
   "metadata": {},
   "source": [
    "## add() method"
   ]
  },
  {
   "cell_type": "code",
   "execution_count": 1,
   "id": "85c7b8d6-dce6-4dd7-8826-ed1c5d562e38",
   "metadata": {},
   "outputs": [
    {
     "name": "stdout",
     "output_type": "stream",
     "text": [
      "{32, 23, 90, 43, 12, 45, 44}\n"
     ]
    }
   ],
   "source": [
    "set={12,23,32,43,45,44}\n",
    "set.add(90)\n",
    "print(set)"
   ]
  },
  {
   "cell_type": "markdown",
   "id": "6e3f50f6-7e0c-479f-a61f-caf0ab550b91",
   "metadata": {},
   "source": [
    "## remove() method"
   ]
  },
  {
   "cell_type": "code",
   "execution_count": 2,
   "id": "69ecfaad-80aa-45e2-a6de-70ecea873770",
   "metadata": {},
   "outputs": [
    {
     "name": "stdout",
     "output_type": "stream",
     "text": [
      "{40, 10, 30}\n"
     ]
    }
   ],
   "source": [
    "set={10,20,30,40}\n",
    "set.remove(20)\n",
    "print (set)"
   ]
  },
  {
   "cell_type": "markdown",
   "id": "22fd373f-a36d-4ef4-82c0-01544c2107e9",
   "metadata": {},
   "source": [
    "## Union() method"
   ]
  },
  {
   "cell_type": "code",
   "execution_count": 4,
   "id": "c0a473f6-2695-4a09-a02d-594d8e4c36cf",
   "metadata": {},
   "outputs": [
    {
     "name": "stdout",
     "output_type": "stream",
     "text": [
      "{1, 2, 3, 4, 5, 6, 7, 8}\n"
     ]
    }
   ],
   "source": [
    "set1={1,2,3,4}\n",
    "set2={5,6,7,8}\n",
    "set3=set1.union(set2)\n",
    "print(set3)"
   ]
  },
  {
   "cell_type": "markdown",
   "id": "f96f1412-5a37-4a71-a205-de6600c305ae",
   "metadata": {},
   "source": [
    "## intersection() method"
   ]
  },
  {
   "cell_type": "code",
   "execution_count": 5,
   "id": "b042b147-d6a7-4e6f-8e10-4343cbeb7d53",
   "metadata": {},
   "outputs": [
    {
     "name": "stdout",
     "output_type": "stream",
     "text": [
      "{'om'}\n"
     ]
    }
   ],
   "source": [
    "set1={\"om\",\"jay\",\"nishad\"}\n",
    "set2={\"om\",\"sarthak\",\"atharva\"}\n",
    "set3=set1.intersection(set2)\n",
    "print(set3)"
   ]
  },
  {
   "cell_type": "markdown",
   "id": "c867569d-a29f-4738-993e-125133ee08cc",
   "metadata": {},
   "source": [
    "## difference() method"
   ]
  },
  {
   "cell_type": "code",
   "execution_count": 7,
   "id": "495b5097-f191-4583-90e7-097a81534039",
   "metadata": {},
   "outputs": [
    {
     "name": "stdout",
     "output_type": "stream",
     "text": [
      "{2, 4}\n"
     ]
    }
   ],
   "source": [
    "set1={1,2,3,4}\n",
    "set2={1,3,6,7,8}\n",
    "set3=set1.difference(set2)\n",
    "print(set3)"
   ]
  },
  {
   "cell_type": "code",
   "execution_count": null,
   "id": "fc4b7a78-0906-47b6-9fc2-02164dbac44a",
   "metadata": {},
   "outputs": [],
   "source": []
  }
 ],
 "metadata": {
  "kernelspec": {
   "display_name": "Python 3 (ipykernel)",
   "language": "python",
   "name": "python3"
  },
  "language_info": {
   "codemirror_mode": {
    "name": "ipython",
    "version": 3
   },
   "file_extension": ".py",
   "mimetype": "text/x-python",
   "name": "python",
   "nbconvert_exporter": "python",
   "pygments_lexer": "ipython3",
   "version": "3.13.1"
  }
 },
 "nbformat": 4,
 "nbformat_minor": 5
}
