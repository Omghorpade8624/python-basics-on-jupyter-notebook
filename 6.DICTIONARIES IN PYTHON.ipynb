{
 "cells": [
  {
   "cell_type": "markdown",
   "id": "8249ee3f-36d1-46d0-aa4c-b3d993b469f8",
   "metadata": {},
   "source": [
    "# DICTIONARIES IN PYTHON\n",
    "\n",
    "   Dictionaries in python are use to store values in key and values pair,it is collection which is ordered it is changeble but do not allow duplicates values.\n",
    "\n",
    "   1.Accessing items; we can access values of dictionary by referring its key name \n",
    "\n",
    "   \"key:value\"\n",
    "\n",
    "   2.Adding items; we can add items to dictionary by a new index key and assigning a value            to it\n",
    "\n",
    "   3.Removing items; we can remove items from dictionary we can remove by using pop() and popitem() method\n",
    "   \n",
    "   "
   ]
  },
  {
   "cell_type": "markdown",
   "id": "3d692e1c-6205-4ce7-8c26-23ec6ebcb38b",
   "metadata": {},
   "source": [
    "## Accessing items"
   ]
  },
  {
   "cell_type": "code",
   "execution_count": 2,
   "id": "cfe895dc-c969-457a-b10a-2a900874844c",
   "metadata": {},
   "outputs": [
    {
     "name": "stdout",
     "output_type": "stream",
     "text": [
      "curve\n"
     ]
    }
   ],
   "source": [
    "#accessing\n",
    "\n",
    "dict={\"suzuki\":\"beleno\",\"mahindra\":\"thar\",\"tata\":\"curve\"}\n",
    "a=dict[\"tata\"]\n",
    "print(a)"
   ]
  },
  {
   "cell_type": "markdown",
   "id": "0c6e7b17-78f3-4cd0-b14a-ac17ff624a28",
   "metadata": {},
   "source": [
    "### get() method\n",
    "     the key() is use to get all keys in the dictionary\n",
    "\n",
    "\n",
    "     get values; values() is to return al all the values in the dictionary\n",
    "\n",
    "     \n",
    "   "
   ]
  },
  {
   "cell_type": "code",
   "execution_count": 7,
   "id": "737d0455-d228-403c-937d-47465e271b50",
   "metadata": {},
   "outputs": [
    {
     "name": "stdout",
     "output_type": "stream",
     "text": [
      "dict_keys(['om', 'atharva', 'nishad'])\n",
      "dict_values(['ghorpade', 'dhumal', 'gurav'])\n"
     ]
    }
   ],
   "source": [
    "#get method\n",
    "#keys()\n",
    "dict={\"om\":\"ghorpade\",\"atharva\":\"dhumal\",\"nishad\":\"gurav\"}\n",
    "b=dict.keys()\n",
    "print(b)\n",
    "\n",
    "#values()\n",
    "c=dict.values()\n",
    "print(c)"
   ]
  },
  {
   "cell_type": "markdown",
   "id": "0eb8532b-876c-45bc-ae94-dceca0089b4e",
   "metadata": {},
   "source": [
    "## Adding items"
   ]
  },
  {
   "cell_type": "code",
   "execution_count": 8,
   "id": "608d3a99-4fd1-4192-ad9b-ded11a4ab6dc",
   "metadata": {},
   "outputs": [
    {
     "name": "stdout",
     "output_type": "stream",
     "text": [
      "{1: 2, 3: 4, 5: 6, 7: 8}\n"
     ]
    }
   ],
   "source": [
    "#add items\n",
    "\n",
    "dict={1:2,3:4,5:6}\n",
    "dict[7]=8\n",
    "print(dict)"
   ]
  },
  {
   "cell_type": "markdown",
   "id": "5f76423c-b0dd-46ae-8d01-3ca3f443bcb3",
   "metadata": {},
   "source": [
    "## Removing items\n",
    "\n",
    "   use to remove items from the from the items\n",
    "\n",
    "   method use for remove items from the dictionary are as follows\n",
    "\n",
    "         pop()\n",
    "         popitems() \" this method remove last items from the dictionary\"\n",
    "         del"
   ]
  },
  {
   "cell_type": "code",
   "execution_count": 9,
   "id": "8f9f9904-4856-4177-92b3-0515d70e9037",
   "metadata": {},
   "outputs": [
    {
     "name": "stdout",
     "output_type": "stream",
     "text": [
      "{1: 2, 3: 2}\n"
     ]
    }
   ],
   "source": [
    "#remove items \n",
    "#pop()\n",
    "\n",
    "dict={1:2,3:2,5:6}\n",
    "dict.pop(5)\n",
    "print(dict)"
   ]
  },
  {
   "cell_type": "code",
   "execution_count": 10,
   "id": "6e281f36-8c53-4048-a93b-a8de200021b8",
   "metadata": {},
   "outputs": [
    {
     "name": "stdout",
     "output_type": "stream",
     "text": [
      "{1: 2, 3: 4}\n"
     ]
    }
   ],
   "source": [
    "#popitems()\n",
    "dict={1:2,3:4,5:6}\n",
    "dict.popitem()\n",
    "print(dict)"
   ]
  },
  {
   "cell_type": "code",
   "execution_count": null,
   "id": "d01c4b66-b8c5-49b4-a3bb-9a26f3ab32cb",
   "metadata": {},
   "outputs": [],
   "source": []
  }
 ],
 "metadata": {
  "kernelspec": {
   "display_name": "Python 3 (ipykernel)",
   "language": "python",
   "name": "python3"
  },
  "language_info": {
   "codemirror_mode": {
    "name": "ipython",
    "version": 3
   },
   "file_extension": ".py",
   "mimetype": "text/x-python",
   "name": "python",
   "nbconvert_exporter": "python",
   "pygments_lexer": "ipython3",
   "version": "3.13.1"
  }
 },
 "nbformat": 4,
 "nbformat_minor": 5
}
