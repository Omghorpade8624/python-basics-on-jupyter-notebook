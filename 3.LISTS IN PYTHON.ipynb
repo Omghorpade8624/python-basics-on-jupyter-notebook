{
 "cells": [
  {
   "cell_type": "markdown",
   "id": "aa9427d4-22b1-4ca7-b2f5-ff9e942b2a3d",
   "metadata": {},
   "source": [
    "# LISTS IN PYTHON\n",
    "\n",
    "   Lists are use to store multiple values in a single variable\n",
    "    and they are created using square brackets [] . it contains index for each items in list starting from 0 to many.\n",
    "\n",
    "\n",
    "       1.Accessing elements;  you can access the list values by prefrering its index number. (indexing and slicing)\n",
    "       \n",
    "\n",
    "       2.Modifying elements;  you can change or modife the list value by index\n",
    "\n",
    "\n",
    "       3.Adding elements;    you can add any items in list by append() and insert() method\n",
    "\n",
    "\n",
    "       4.Removing elements;  ypu can remove the values from the list by remove() , pop() or clear().\n",
    "       \n",
    "                            \n",
    "       "
   ]
  },
  {
   "cell_type": "markdown",
   "id": "b9dc890d-9457-440f-a02f-65c66f40de58",
   "metadata": {},
   "source": [
    "## Accessing the elements"
   ]
  },
  {
   "cell_type": "code",
   "execution_count": 3,
   "id": "04188b27-5dd4-4507-8aa7-4c97a0d12c77",
   "metadata": {},
   "outputs": [
    {
     "name": "stdout",
     "output_type": "stream",
     "text": [
      "nishad\n",
      "['truck']\n",
      "['plane', 'ship', 'cycle']\n"
     ]
    }
   ],
   "source": [
    "#lists in python\n",
    "#accessing the element\n",
    "\n",
    "#Indexing\n",
    "\n",
    "thislist=[\"om\",\"aditya\",\"atharva\",\"nishad\"]\n",
    "\n",
    "print(thislist[3])\n",
    "\n",
    "\n",
    "#slicing[start start:end:step]\n",
    "list=[\"car\",\"truck\",\"plane\",\"ship\",\"cycle\",\"auto\"]\n",
    "print(list[1:2:3])\n",
    "print(list[2:5:1])\n",
    "\n",
    "\n"
   ]
  },
  {
   "cell_type": "markdown",
   "id": "b99d68a5-35e2-4a1d-aa60-54ac66c473c1",
   "metadata": {},
   "source": [
    "## Modifying the elements"
   ]
  },
  {
   "cell_type": "code",
   "execution_count": 5,
   "id": "a707aaaf-e288-4dbd-844c-732eb1773d5c",
   "metadata": {},
   "outputs": [
    {
     "name": "stdout",
     "output_type": "stream",
     "text": [
      "[23, 90, 80, 43, 54, 44, 54, 23]\n"
     ]
    }
   ],
   "source": [
    "list=[23,33,43,54,44,54,23]\n",
    "list[1:2]=[90,80]\n",
    "print(list)"
   ]
  },
  {
   "cell_type": "markdown",
   "id": "0044913a-0a07-4bc1-b01f-47dbb3fa85b2",
   "metadata": {},
   "source": [
    "## Adding elements"
   ]
  },
  {
   "cell_type": "code",
   "execution_count": 11,
   "id": "60f90c26-8214-4ed4-b08c-97b0e24ec3d3",
   "metadata": {},
   "outputs": [
    {
     "name": "stdout",
     "output_type": "stream",
     "text": [
      "['deepak', 'sanjay', 'rajaram', 'prshant']\n",
      "['deepak', 'sanjay', 'suryakant', 'rajaram', 'prshant']\n",
      "['deepak', 'sanjay', 'rajaram', 'prshant']\n"
     ]
    }
   ],
   "source": [
    "#adding elements\n",
    "list=[\"deepak\",\"sanjay\",\"rajaram\"]\n",
    "list.append(\"prshant\")           #by apend() method\n",
    "print(list)\n",
    "\n",
    "list.insert(2,\"suryakant\")       #by insert() method\n",
    "print(list)\n",
    "#removing\n",
    "list.pop(2)                      #by pop() method\n",
    "print(list)"
   ]
  },
  {
   "cell_type": "markdown",
   "id": "5eaa203b-2228-45ba-aeb9-5e6d4f6b2d8e",
   "metadata": {},
   "source": [
    "## Removing elements\n"
   ]
  },
  {
   "cell_type": "code",
   "execution_count": 7,
   "id": "344787e5-cf70-4e1b-92b2-7150e90c82a8",
   "metadata": {},
   "outputs": [
    {
     "name": "stdout",
     "output_type": "stream",
     "text": [
      "[1, 2, 4, 5, 6, 7]\n",
      "[1, 2, 5, 6, 7]\n"
     ]
    }
   ],
   "source": [
    "#removing\n",
    "#pop()\n",
    "\n",
    "list=[1,2,3,4,5,6,7]\n",
    "list.pop(2)                      #by pop() method\n",
    "print(list)\n",
    "\n",
    "list.remove(4)\n",
    "print (list)\n"
   ]
  },
  {
   "cell_type": "code",
   "execution_count": null,
   "id": "dd38fd72-f96b-4fc4-9c3b-26cb4d54c220",
   "metadata": {},
   "outputs": [],
   "source": []
  }
 ],
 "metadata": {
  "kernelspec": {
   "display_name": "Python 3 (ipykernel)",
   "language": "python",
   "name": "python3"
  },
  "language_info": {
   "codemirror_mode": {
    "name": "ipython",
    "version": 3
   },
   "file_extension": ".py",
   "mimetype": "text/x-python",
   "name": "python",
   "nbconvert_exporter": "python",
   "pygments_lexer": "ipython3",
   "version": "3.13.1"
  }
 },
 "nbformat": 4,
 "nbformat_minor": 5
}
