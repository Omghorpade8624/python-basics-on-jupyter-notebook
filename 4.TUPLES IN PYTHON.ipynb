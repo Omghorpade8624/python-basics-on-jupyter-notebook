{
 "cells": [
  {
   "cell_type": "markdown",
   "id": "64c297a2-9a49-4ba7-84df-e7311147ba96",
   "metadata": {},
   "source": [
    "# TUPELS IN PYTHON\n",
    "\n",
    "  Tuple is very similar to list but the only difference is you cannot modify or change the items stored in tuple\n",
    "\n",
    "\n",
    "  \n",
    "     1.Accessing the elements ; you can access the elements by the use of indexing and slicing method\n",
    "\n",
    "        indexing ; accessing with the help of index \n",
    "\n",
    "        slicing ; slicing or dividing the tuple\n",
    "\n",
    "     2.Concatenation;  use to combine to tuples using \"+\".   \n",
    "\n",
    "     3.Repetition;  use to repeate the tuple using \"*\".\n",
    "\n",
    "     4.Count;  count occurence of elements with the count().\n",
    "\n",
    "     5.Index;  This method in Python is used to find the first occurrence of a specified value in a tuple."
   ]
  },
  {
   "cell_type": "markdown",
   "id": "d35486f9-4576-4373-869c-997bcbca900b",
   "metadata": {},
   "source": [
    "## Accessing the elements"
   ]
  },
  {
   "cell_type": "code",
   "execution_count": 3,
   "id": "cd9cf667-8f6d-4d09-88bb-570b8b3020cd",
   "metadata": {},
   "outputs": [
    {
     "name": "stdout",
     "output_type": "stream",
     "text": [
      "om\n",
      "['nishad']\n"
     ]
    }
   ],
   "source": [
    "# accessing\n",
    "# indexing\n",
    "\n",
    "tuple=[\"om\",\"jay\",\"nishad\",\"aditya\",\"atharva\"]\n",
    "print(tuple[0])\n",
    "\n",
    "#slicing\n",
    "print(tuple[2:3])"
   ]
  },
  {
   "cell_type": "markdown",
   "id": "b69c43d8-cd4e-4116-9bf3-cece3fb71185",
   "metadata": {},
   "source": [
    "## Concatenation tuples"
   ]
  },
  {
   "cell_type": "code",
   "execution_count": 4,
   "id": "5ff5199d-04b3-4733-8517-8488e7146249",
   "metadata": {},
   "outputs": [
    {
     "name": "stdout",
     "output_type": "stream",
     "text": [
      "[12, 23, 32, 44, 'pune', 'satara', 'kholapur']\n"
     ]
    }
   ],
   "source": [
    "# concatenation\n",
    "\n",
    "tuple1=[12,23,32,44]\n",
    "tuple2=[\"pune\",\"satara\",\"kholapur\"]\n",
    "tuple3=tuple1+tuple2\n",
    "\n",
    "print(tuple3)"
   ]
  },
  {
   "cell_type": "markdown",
   "id": "541296e8-fe03-4edd-b99e-6df2bd326c46",
   "metadata": {},
   "source": [
    "## Repetition of tuple"
   ]
  },
  {
   "cell_type": "code",
   "execution_count": 11,
   "id": "42f9619d-ff5f-46f0-a858-b4e54a9c2fa3",
   "metadata": {},
   "outputs": [
    {
     "name": "stdout",
     "output_type": "stream",
     "text": [
      "['om', 'om']\n"
     ]
    }
   ],
   "source": [
    "## Repetitions of the tuples\n",
    "\n",
    "tuple=[\"om\"]\n",
    "print(tuple*2)"
   ]
  },
  {
   "cell_type": "markdown",
   "id": "2961bd90-70ac-440d-b6e8-cfc8017c15c4",
   "metadata": {},
   "source": [
    "## Count"
   ]
  },
  {
   "cell_type": "code",
   "execution_count": 12,
   "id": "30efeae3-e80c-49d4-ba87-c9b8eb0a7490",
   "metadata": {},
   "outputs": [
    {
     "name": "stdout",
     "output_type": "stream",
     "text": [
      "4\n"
     ]
    }
   ],
   "source": [
    "tuple=[1,2,3,1,3,1,4,1]\n",
    "print (tuple.count(1))"
   ]
  },
  {
   "cell_type": "markdown",
   "id": "f4c8a43f-89c3-4404-9fae-534d4cbf4b69",
   "metadata": {},
   "source": []
  },
  {
   "cell_type": "code",
   "execution_count": null,
   "id": "37bd56da-773b-4ba0-a34f-6938b37b52a5",
   "metadata": {},
   "outputs": [],
   "source": []
  },
  {
   "cell_type": "code",
   "execution_count": null,
   "id": "b1e06cf5-2016-4e12-b764-1e9a66b8fdfe",
   "metadata": {},
   "outputs": [],
   "source": []
  }
 ],
 "metadata": {
  "kernelspec": {
   "display_name": "Python 3 (ipykernel)",
   "language": "python",
   "name": "python3"
  },
  "language_info": {
   "codemirror_mode": {
    "name": "ipython",
    "version": 3
   },
   "file_extension": ".py",
   "mimetype": "text/x-python",
   "name": "python",
   "nbconvert_exporter": "python",
   "pygments_lexer": "ipython3",
   "version": "3.13.1"
  }
 },
 "nbformat": 4,
 "nbformat_minor": 5
}
