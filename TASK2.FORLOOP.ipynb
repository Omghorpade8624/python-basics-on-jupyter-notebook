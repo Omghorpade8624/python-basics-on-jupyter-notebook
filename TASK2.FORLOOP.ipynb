{
 "cells": [
  {
   "cell_type": "markdown",
   "id": "ed94beb5-8222-411b-aa6d-a644e5d90d8d",
   "metadata": {},
   "source": [
    "# for loop\n",
    "\n",
    "A for loop is used for iterating over a sequence (that is either a list, a tuple, a dictionary, a set, or a string).\n",
    "\n",
    "This is less like the for keyword in other programming languages, and works more like an iterator method as found in other object-orientated programming languages.\n",
    "\n",
    "With the for loop we can execute a set of statements, once for each item in a list, tuple, set etc."
   ]
  },
  {
   "cell_type": "markdown",
   "id": "ff1e7922-4b78-48ca-b08e-c4845680b3f8",
   "metadata": {},
   "source": [
    "## Example for for loop"
   ]
  },
  {
   "cell_type": "code",
   "execution_count": 2,
   "id": "b152d82c-e074-44a3-8347-d2d91595e8c7",
   "metadata": {},
   "outputs": [
    {
     "name": "stdout",
     "output_type": "stream",
     "text": [
      "om\n",
      "jay\n",
      "hari\n"
     ]
    }
   ],
   "source": [
    "#basic example\n",
    "list = [\"om\",\"jay\",\"hari\"]\n",
    "for t in list:\n",
    "    print(t)\n",
    "        "
   ]
  },
  {
   "cell_type": "markdown",
   "id": "5489fbdd-e630-4e4f-b813-84310d66a990",
   "metadata": {},
   "source": [
    "## 1)print odd value between 20 and 80, without using if. Using for loop only"
   ]
  },
  {
   "cell_type": "code",
   "execution_count": 13,
   "id": "28079d68-0873-4bf1-a9c9-b557668b7493",
   "metadata": {},
   "outputs": [
    {
     "name": "stdout",
     "output_type": "stream",
     "text": [
      "21\n",
      "23\n",
      "25\n",
      "27\n",
      "29\n",
      "31\n",
      "33\n",
      "35\n",
      "37\n",
      "39\n",
      "41\n",
      "43\n",
      "45\n",
      "47\n",
      "49\n",
      "51\n",
      "53\n",
      "55\n",
      "57\n",
      "59\n",
      "61\n",
      "63\n",
      "65\n",
      "67\n",
      "69\n",
      "71\n",
      "73\n",
      "75\n",
      "77\n",
      "79\n"
     ]
    }
   ],
   "source": [
    "for i in range(21, 80, 2):\n",
    "    print(i)\n"
   ]
  },
  {
   "cell_type": "markdown",
   "id": "a3ae7d26-631a-41ff-a675-5adb604c4272",
   "metadata": {},
   "source": [
    "## 2) ) creat a list of 1 to 20 number using for loop [1,2,3..20]\n"
   ]
  },
  {
   "cell_type": "code",
   "execution_count": 19,
   "id": "091f5215-c4f0-41af-8628-806f66bcc48e",
   "metadata": {},
   "outputs": [
    {
     "name": "stdout",
     "output_type": "stream",
     "text": [
      "1\n",
      "2\n",
      "3\n",
      "4\n",
      "5\n",
      "6\n",
      "7\n",
      "8\n",
      "9\n",
      "10\n",
      "11\n",
      "12\n",
      "13\n",
      "14\n",
      "15\n",
      "16\n",
      "17\n",
      "18\n",
      "19\n",
      "20\n"
     ]
    }
   ],
   "source": [
    "# solution\n",
    "for i in range (1,21,1):\n",
    "    print(i)"
   ]
  },
  {
   "cell_type": "markdown",
   "id": "0a3f16ac-077b-4802-bdf6-d3db6fe8b794",
   "metadata": {},
   "source": [
    "## 3)create a  list of 20 to 1 value using  for loop (dont Use Reverse)\n",
    "[20,19,18,...3,2,1]\n"
   ]
  },
  {
   "cell_type": "code",
   "execution_count": 18,
   "id": "ad4eaa00-34e7-4fdf-8366-1425ebf92a8e",
   "metadata": {},
   "outputs": [
    {
     "name": "stdout",
     "output_type": "stream",
     "text": [
      "20\n",
      "19\n",
      "18\n",
      "17\n",
      "16\n",
      "15\n",
      "14\n",
      "13\n",
      "12\n",
      "11\n",
      "10\n",
      "9\n",
      "8\n",
      "7\n",
      "6\n",
      "5\n",
      "4\n",
      "3\n",
      "2\n",
      "1\n"
     ]
    }
   ],
   "source": [
    "for i in range (20,0,-1):\n",
    "    print(i)"
   ]
  },
  {
   "cell_type": "markdown",
   "id": "c72fa99b-4fe4-4c49-852e-125409038e59",
   "metadata": {},
   "source": [
    "## 4)take Cube of odd values between 20 to 40\n",
    "\n"
   ]
  },
  {
   "cell_type": "code",
   "execution_count": 20,
   "id": "10d97e15-8f99-4e52-9dd3-165f715b8b31",
   "metadata": {},
   "outputs": [
    {
     "name": "stdout",
     "output_type": "stream",
     "text": [
      "9261\n",
      "12167\n",
      "15625\n",
      "19683\n",
      "24389\n",
      "29791\n",
      "35937\n",
      "42875\n",
      "50653\n",
      "59319\n"
     ]
    }
   ],
   "source": [
    "for i in range (21,40,2):\n",
    "    print(i**3)"
   ]
  },
  {
   "cell_type": "markdown",
   "id": "3f197318-f112-42a5-bb2a-783eb041b2cf",
   "metadata": {},
   "source": [
    "## 5) take 5 freinds name in list name=[a,b,c,d,e]take corresponding ages in second list age = [20,21,23,25,24]expected ans:\n",
    "    my name is a , my age is 20\n",
    "    my name is b, my age is 21\n"
   ]
  },
  {
   "cell_type": "code",
   "execution_count": 12,
   "id": "ffcee643-39c1-48b3-908e-9a4347949881",
   "metadata": {},
   "outputs": [
    {
     "name": "stdout",
     "output_type": "stream",
     "text": [
      "my name is om , my age is 22\n",
      "my name is jay , my age is 18\n",
      "my name is nishad , my age is 23\n"
     ]
    }
   ],
   "source": [
    "# for loop 5\n",
    "names = [\"om\",\"jay\",\"nishad\"]\n",
    "ages = [22,18,23]\n",
    "for  name , age in zip(names, ages):  \n",
    "    print (f\"my name is {name} , my age is {age}\")\n",
    "    \n",
    "    "
   ]
  },
  {
   "cell_type": "code",
   "execution_count": null,
   "id": "f46c7146-0923-4006-9dc7-1c16df3f767f",
   "metadata": {},
   "outputs": [],
   "source": []
  }
 ],
 "metadata": {
  "kernelspec": {
   "display_name": "Python 3 (ipykernel)",
   "language": "python",
   "name": "python3"
  },
  "language_info": {
   "codemirror_mode": {
    "name": "ipython",
    "version": 3
   },
   "file_extension": ".py",
   "mimetype": "text/x-python",
   "name": "python",
   "nbconvert_exporter": "python",
   "pygments_lexer": "ipython3",
   "version": "3.13.1"
  }
 },
 "nbformat": 4,
 "nbformat_minor": 5
}
