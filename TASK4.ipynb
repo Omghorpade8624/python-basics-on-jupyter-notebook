{
 "cells": [
  {
   "cell_type": "markdown",
   "id": "dfb314d3-1a36-449e-8424-59f86b0f0eb2",
   "metadata": {},
   "source": [
    "# TASK 4\n",
    "\n"
   ]
  },
  {
   "cell_type": "markdown",
   "id": "18fa997e-a26e-4071-8786-c620513d2dc8",
   "metadata": {},
   "source": [
    "## 1. Introduction to NumPy\n",
    "What NumPy is and why it’s important for numerical computations in Python.\n",
    "Installation of NumPy (pip install numpy).\n",
    "Understanding its role in data science, machine learning, and scientific computing.\n",
    "\n"
   ]
  },
  {
   "cell_type": "markdown",
   "id": "3c18ffcd-2593-4d0e-886f-8fe3b600d526",
   "metadata": {},
   "source": [
    "## \n",
    "NumPy is a Python library used for working with arrays.\n",
    "\n",
    "It also has functions for working in domain of linear algebra, fourier transform, and matrices.\n",
    "\n",
    " It is an open source project and you can use it freely.\n",
    "\n",
    "NumPy stands for Numerical Python."
   ]
  },
  {
   "cell_type": "markdown",
   "id": "3b945140-523c-4495-b06f-b509f68518bb",
   "metadata": {},
   "source": [
    "## 2. Arrays in NumPy\n",
    "Understanding the concept of ndarray (N-dimensional array).\n"
   ]
  },
  {
   "cell_type": "markdown",
   "id": "822700c6-f989-4d9a-8241-b86980508e9b",
   "metadata": {},
   "source": [
    "# 1-d array"
   ]
  },
  {
   "cell_type": "code",
   "execution_count": 21,
   "id": "a9026406-696e-41dd-85ea-6dec7e18fbc6",
   "metadata": {},
   "outputs": [
    {
     "name": "stdout",
     "output_type": "stream",
     "text": [
      "[1, 2, 3]\n"
     ]
    }
   ],
   "source": [
    "import numpy as np\n",
    "a = ([1,2,3])\n",
    "print(a)"
   ]
  },
  {
   "cell_type": "markdown",
   "id": "6656fd3d-0e6c-494a-8889-a3373b8c54e9",
   "metadata": {},
   "source": [
    "# 2-d array"
   ]
  },
  {
   "cell_type": "code",
   "execution_count": 30,
   "id": "98915a52-b93f-4062-8361-e3b1f55257d5",
   "metadata": {},
   "outputs": [
    {
     "name": "stdout",
     "output_type": "stream",
     "text": [
      "[[1 2 3]\n",
      " [4 5 6]]\n"
     ]
    }
   ],
   "source": [
    "import numpy as np\n",
    "a = np.array([[1,2,3],[4,5,6]])\n",
    "print(a)"
   ]
  },
  {
   "cell_type": "code",
   "execution_count": 19,
   "id": "a58bc74c-afe6-439e-bc93-599657779c44",
   "metadata": {},
   "outputs": [
    {
     "name": "stdout",
     "output_type": "stream",
     "text": [
      "[1 2 3 4]\n"
     ]
    }
   ],
   "source": [
    "import numpy # importing numpy library\n",
    "\n",
    "arr = numpy.array([1,2,3,4])   # defining array\n",
    "print(arr)                     # print array\n"
   ]
  },
  {
   "cell_type": "markdown",
   "id": "6c4bb9f2-c836-48a8-97f0-02d2b97e73f6",
   "metadata": {},
   "source": [
    "### Using np.zeros()."
   ]
  },
  {
   "cell_type": "code",
   "execution_count": 6,
   "id": "40ad4586-2fdf-4200-8fd6-3d95b1ad68ee",
   "metadata": {},
   "outputs": [
    {
     "name": "stdout",
     "output_type": "stream",
     "text": [
      "[0. 0. 0. 0. 0. 0. 0. 0. 0. 0.]\n"
     ]
    }
   ],
   "source": [
    "import numpy as np\n",
    "arr = np.zeros(10)\n",
    "print(arr)"
   ]
  },
  {
   "cell_type": "markdown",
   "id": "7832c6b1-d82b-4fe2-8d51-3e099111f745",
   "metadata": {},
   "source": [
    "### Using np.ones()"
   ]
  },
  {
   "cell_type": "code",
   "execution_count": 7,
   "id": "60f1ba37-54c4-4c8f-916e-0bb20ffedfd0",
   "metadata": {},
   "outputs": [
    {
     "name": "stdout",
     "output_type": "stream",
     "text": [
      "[1. 1. 1. 1. 1. 1. 1. 1. 1.]\n"
     ]
    }
   ],
   "source": [
    "import numpy as np\n",
    "arr = np.ones(9)\n",
    "print(arr)"
   ]
  },
  {
   "cell_type": "markdown",
   "id": "d7423f14-0479-4346-9ec8-67ab07ca5a63",
   "metadata": {},
   "source": [
    "### Using np.arange()"
   ]
  },
  {
   "cell_type": "code",
   "execution_count": 9,
   "id": "5dc87970-f6d6-48a0-a775-b8348b5292e6",
   "metadata": {},
   "outputs": [
    {
     "name": "stdout",
     "output_type": "stream",
     "text": [
      "[ 1  4  7 10]\n"
     ]
    }
   ],
   "source": [
    "import numpy as np\n",
    "arr = np.arange(1,12,3)\n",
    "print(arr)"
   ]
  },
  {
   "cell_type": "markdown",
   "id": "9d47ee12-d833-4c55-b5f3-de69ea0f6241",
   "metadata": {},
   "source": [
    "### using np.linspace()"
   ]
  },
  {
   "cell_type": "code",
   "execution_count": 15,
   "id": "f84f4a4b-cb00-48a3-a45c-13c441f3084e",
   "metadata": {},
   "outputs": [
    {
     "name": "stdout",
     "output_type": "stream",
     "text": [
      "[ 1.  2.  3.  4.  5.  6.  7.  8.  9. 10.]\n"
     ]
    }
   ],
   "source": [
    "import numpy as np\n",
    "arr = np.linspace(1,10, num=10)\n",
    "print(arr)"
   ]
  },
  {
   "cell_type": "markdown",
   "id": "5da02cb0-043c-467d-b799-05ed343f2fd1",
   "metadata": {},
   "source": [
    "# Array Indexing and slicing"
   ]
  },
  {
   "cell_type": "code",
   "execution_count": 13,
   "id": "e6d235dd-eed1-4d19-a24f-76dd2358ef45",
   "metadata": {},
   "outputs": [
    {
     "name": "stdout",
     "output_type": "stream",
     "text": [
      "55\n"
     ]
    }
   ],
   "source": [
    "import numpy as np\n",
    "arr = np.array([12,34,43,55,76,87,45,18,63)]  # indexing\n",
    "print(arr[3])                                 # printing according to index number in arrray list"
   ]
  },
  {
   "cell_type": "code",
   "execution_count": 14,
   "id": "75c8279c-f6bd-46bd-87ee-e65a6b5242df",
   "metadata": {},
   "outputs": [
    {
     "name": "stdout",
     "output_type": "stream",
     "text": [
      "[32 43]\n"
     ]
    }
   ],
   "source": [
    "import numpy as np\n",
    "arr = np.array([12,32,43,54,54])\n",
    "print(arr[1:3])"
   ]
  },
  {
   "cell_type": "markdown",
   "id": "2edf6a8f-a8e6-420b-8d8f-237adbf9b025",
   "metadata": {},
   "source": [
    "# 3. Array Operations\n",
    "Arithmetic operations on NumPy arrays (addition, subtraction, multiplication, division).\n",
    "Broadcasting (performing operations on arrays of different shapes).\n",
    "Element-wise operations and functions (e.g., np.sqrt(), np.sin(), np.exp()).\n"
   ]
  },
  {
   "cell_type": "code",
   "execution_count": 16,
   "id": "fab424fc-93e1-412d-9a49-6cf6f1ab9d2e",
   "metadata": {},
   "outputs": [
    {
     "name": "stdout",
     "output_type": "stream",
     "text": [
      "[5 7 9]\n"
     ]
    }
   ],
   "source": [
    "# addition\n",
    "#import numpy as np\n",
    "a=np.array([1,2,3])\n",
    "b=np.array([4,5,6])\n",
    "arr = a+b\n",
    "print(arr)\n"
   ]
  },
  {
   "cell_type": "code",
   "execution_count": 17,
   "id": "62e8095f-030a-44eb-96d1-1a997f359cf4",
   "metadata": {},
   "outputs": [
    {
     "name": "stdout",
     "output_type": "stream",
     "text": [
      "[-3 -3 -3]\n"
     ]
    }
   ],
   "source": [
    "#subsdtarction\n",
    "import numpy as np\n",
    "a=np.array([1,2,3])\n",
    "b=np.array([4,5,6])\n",
    "arr = a-b\n",
    "print(arr)"
   ]
  },
  {
   "cell_type": "code",
   "execution_count": 18,
   "id": "036be8af-466a-4941-a4cd-2c632db318e8",
   "metadata": {},
   "outputs": [
    {
     "name": "stdout",
     "output_type": "stream",
     "text": [
      "[0.25 0.4  0.5 ]\n"
     ]
    }
   ],
   "source": [
    "# division\n",
    "import numpy as np\n",
    "a=np.array([1,2,3])\n",
    "b=np.array([4,5,6])\n",
    "arr = a/b\n",
    "print(arr)"
   ]
  },
  {
   "cell_type": "markdown",
   "id": "b6f7a3ef-9623-44c3-807f-be54e7f9c192",
   "metadata": {},
   "source": [
    "# 4. Array Shapes and Reshaping\n",
    "Checking array dimensions with .shape and .ndim.\n",
    "Changing array shape with .reshape(), .flatten(), .transpose().\n",
    "Concatenating and splitting arrays using np.concatenate(), np.vstack(), np.hstack(), np.split().\n"
   ]
  },
  {
   "cell_type": "code",
   "execution_count": 36,
   "id": "714568c9-d4d9-49b0-b7b2-fd84edc20c7a",
   "metadata": {},
   "outputs": [
    {
     "name": "stdout",
     "output_type": "stream",
     "text": [
      "(2, 4)\n"
     ]
    }
   ],
   "source": [
    "import numpy as np\n",
    "\n",
    "arr = np.array([[1, 2, 3, 4], [5, 6, 7, 8]])\n",
    "\n",
    "print(arr.shape)"
   ]
  },
  {
   "cell_type": "code",
   "execution_count": 32,
   "id": "2eb3035e-5529-4980-8959-6283cd7fa0d1",
   "metadata": {},
   "outputs": [
    {
     "name": "stdout",
     "output_type": "stream",
     "text": [
      "[[[[[[[[[[1 2 3 4]]]]]]]]]]\n",
      "shape of array : (1, 1, 1, 1, 1, 1, 1, 1, 1, 4)\n"
     ]
    }
   ],
   "source": [
    "import numpy as np\n",
    "\n",
    "arr = np.array([1, 2, 3, 4], ndmin=10)\n",
    "\n",
    "print(arr)\n",
    "print('shape of array :', arr.shape)\n"
   ]
  },
  {
   "cell_type": "markdown",
   "id": "db6bd165-9956-42a6-bd46-55ab0ce462b2",
   "metadata": {},
   "source": [
    "#### changing array shape"
   ]
  },
  {
   "cell_type": "code",
   "execution_count": 35,
   "id": "8503d2fb-989a-4d7e-a136-78977505aae3",
   "metadata": {},
   "outputs": [
    {
     "name": "stdout",
     "output_type": "stream",
     "text": [
      "[[ 1  2  3]\n",
      " [ 4  5  6]\n",
      " [ 7  8  9]\n",
      " [10 11 12]]\n"
     ]
    }
   ],
   "source": [
    "import numpy as np\n",
    "\n",
    "arr = np.array([1, 2, 3, 4, 5, 6, 7, 8, 9, 10, 11, 12])    # changing from 1-D to 2-D\n",
    "\n",
    "newarr = arr.reshape(4, 3)                                 # using .reshape\n",
    "\n",
    "print(newarr)"
   ]
  },
  {
   "cell_type": "code",
   "execution_count": 37,
   "id": "d1c5bbbd-d220-4553-ad59-df17afe0d9a5",
   "metadata": {},
   "outputs": [
    {
     "name": "stdout",
     "output_type": "stream",
     "text": [
      "[[1 5]\n",
      " [2 6]\n",
      " [3 7]\n",
      " [4 8]]\n"
     ]
    }
   ],
   "source": [
    "#.transpose\n",
    "import numpy as np\n",
    "\n",
    "arr = np.array([[1, 2, 3, 4], [5, 6, 7, 8]])\n",
    "\n",
    "new=np.transpose(arr)\n",
    "print(new)"
   ]
  },
  {
   "cell_type": "code",
   "execution_count": 44,
   "id": "8ae82bd3-dec2-4471-9e21-805370968549",
   "metadata": {},
   "outputs": [
    {
     "name": "stdout",
     "output_type": "stream",
     "text": [
      "[1 2 3 4 5 6 7 8]\n"
     ]
    }
   ],
   "source": [
    "#..flatten\n",
    "import numpy as np\n",
    "\n",
    "arr = np.array([[1, 2, 3, 4], [5, 6, 7, 8]])\n",
    "\n",
    "new = arr.flatten()\n",
    "print(new)"
   ]
  },
  {
   "cell_type": "markdown",
   "id": "88515cf6-4bcc-4392-bacc-1e96c8df8654",
   "metadata": {},
   "source": [
    "###  Concatenating and splitting arrays using np.concatenate(), np.vstack(), np.hstack(), np.split()."
   ]
  },
  {
   "cell_type": "code",
   "execution_count": 45,
   "id": "dec7bd00-61f7-448c-979b-7e313f3dba4b",
   "metadata": {},
   "outputs": [
    {
     "name": "stdout",
     "output_type": "stream",
     "text": [
      "[1 2 3 4 5 6]\n"
     ]
    }
   ],
   "source": [
    "#concatinating the array \n",
    "#using np.concatenate\n",
    "import numpy as np\n",
    "\n",
    "arr1 = np.array([1, 2, 3])\n",
    "\n",
    "arr2 = np.array([4, 5, 6])\n",
    "\n",
    "arr = np.concatenate((arr1, arr2))\n",
    "\n",
    "print(arr)"
   ]
  },
  {
   "cell_type": "code",
   "execution_count": 47,
   "id": "49539d61-b544-4e75-a41b-5d1105eefe13",
   "metadata": {},
   "outputs": [
    {
     "name": "stdout",
     "output_type": "stream",
     "text": [
      "[[1 4]\n",
      " [2 5]\n",
      " [3 6]]\n"
     ]
    }
   ],
   "source": [
    "# joining the array'\n",
    "# using np.stack\n",
    "\n",
    "import numpy as np\n",
    "\n",
    "arr1 = np.array([1, 2, 3])\n",
    "\n",
    "arr2 = np.array([4, 5, 6])\n",
    "\n",
    "arr = np.stack((arr1, arr2), axis=1)\n",
    "\n",
    "print(arr)"
   ]
  },
  {
   "cell_type": "code",
   "execution_count": 49,
   "id": "9b4eb9ef-0144-4797-ab75-30f4a809b4cd",
   "metadata": {},
   "outputs": [
    {
     "name": "stdout",
     "output_type": "stream",
     "text": [
      "[[1 2 3]\n",
      " [4 5 6]]\n"
     ]
    }
   ],
   "source": [
    "#joining the array\n",
    "#using np.vstack\n",
    "import numpy as np\n",
    "\n",
    "arr1 = np.array([1, 2, 3])\n",
    "\n",
    "arr2 = np.array([4, 5, 6])\n",
    "\n",
    "arr = np.vstack((arr1, arr2) )\n",
    "\n",
    "print(arr)"
   ]
  },
  {
   "cell_type": "code",
   "execution_count": 52,
   "id": "3f9c8f5c-ce8d-4fd0-a955-5736a015bbe9",
   "metadata": {},
   "outputs": [
    {
     "name": "stdout",
     "output_type": "stream",
     "text": [
      "[1 2 3 4 5 6]\n"
     ]
    }
   ],
   "source": [
    "# joining the array\n",
    "# using np.hstack\n",
    "import numpy as np\n",
    "\n",
    "arr1 = np.array([1, 2, 3])\n",
    "\n",
    "arr2 = np.array([4, 5, 6])\n",
    "\n",
    "arr = np.hstack((arr1, arr2))\n",
    "\n",
    "print(arr)"
   ]
  },
  {
   "cell_type": "code",
   "execution_count": 54,
   "id": "e1b4ee66-c994-4944-9b93-84bc56d47772",
   "metadata": {},
   "outputs": [
    {
     "name": "stdout",
     "output_type": "stream",
     "text": [
      "[array([1, 2, 3]), array([4, 5, 6])]\n"
     ]
    }
   ],
   "source": [
    "#spliting the array\n",
    "import numpy as np\n",
    "\n",
    "arr = np.array([1, 2, 3, 4, 5, 6])\n",
    "\n",
    "newarr = np.array_split(arr, 2)\n",
    "\n",
    "print(newarr)"
   ]
  },
  {
   "cell_type": "markdown",
   "id": "7cee85a1-50cf-48e5-8c01-bba9d3676163",
   "metadata": {},
   "source": [
    "# 5. Array Manipulation\n",
    "Indexing and slicing: understanding multi-dimensional arrays.\n",
    "Masking (logical indexing based on conditions).\n",
    "Fancy indexing (using arrays of indices to select elements).\n"
   ]
  },
  {
   "cell_type": "code",
   "execution_count": 57,
   "id": "c28489b2-5377-4eec-b7dd-ecd35dd0c97f",
   "metadata": {},
   "outputs": [
    {
     "name": "stdout",
     "output_type": "stream",
     "text": [
      "Row index of element 30: 0\n"
     ]
    }
   ],
   "source": [
    "#logical indexing\n",
    "# Create a 2D NumPy array\n",
    "arr = np.array([[10, 20, 30], [40, 50, 60], [70, 80, 90]])\n",
    "\n",
    "row_index = np.where(arr == 30)[0][0]\n",
    "print(\"Row index of element 30:\", row_index)"
   ]
  },
  {
   "cell_type": "code",
   "execution_count": 58,
   "id": "3368d876-b903-48d4-84f8-f1169e92f629",
   "metadata": {},
   "outputs": [
    {
     "name": "stdout",
     "output_type": "stream",
     "text": [
      "Row indices where elements are greater than 60: [2 2 2]\n"
     ]
    }
   ],
   "source": [
    "#fancy indexing\n",
    "import numpy as np\n",
    "\n",
    "# Create a 2D NumPy array\n",
    "arr = np.array([[10, 20, 30], [40, 50, 60], [70, 80, 90]])\n",
    "row_indices = np.where(arr > 60)[0]\n",
    "print(\"Row indices where elements are greater than 60:\", row_indices)"
   ]
  },
  {
   "cell_type": "markdown",
   "id": "66807a01-894f-48c9-a573-0c9a2bf0e74c",
   "metadata": {},
   "source": [
    "# 6. Mathematical Functions\n",
    "Universal functions (ufuncs) like np.add(), np.subtract(), np.multiply().\n",
    "Statistical functions: np.mean(), np.median(), np.std(), np.var(), np.min(), np.max().\n",
    "Linear algebra functions: np.dot(), np.matmul(), np.linalg.inv(), np.linalg.eig().\n",
    "\n"
   ]
  },
  {
   "cell_type": "code",
   "execution_count": 59,
   "id": "94e7d325-f5e0-4a57-839f-2695e3181292",
   "metadata": {},
   "outputs": [
    {
     "name": "stdout",
     "output_type": "stream",
     "text": [
      "[5 7 9]\n"
     ]
    }
   ],
   "source": [
    "# np.add()\n",
    "import numpy as np\n",
    "a = np.array([1,2,3])\n",
    "b = np.array([4,5,6])\n",
    "new = np.add(a,b)\n",
    "print(new)"
   ]
  },
  {
   "cell_type": "code",
   "execution_count": 60,
   "id": "23b769ba-6f79-477d-8720-0224f583106e",
   "metadata": {},
   "outputs": [
    {
     "name": "stdout",
     "output_type": "stream",
     "text": [
      "[-3 -3 -3]\n"
     ]
    }
   ],
   "source": [
    "# np.subtract\n",
    "import numpy as np\n",
    "a = np.array([1,2,3])\n",
    "b = np.array([4,5,6])\n",
    "new = np.subtract(a,b)\n",
    "print(new)"
   ]
  },
  {
   "cell_type": "code",
   "execution_count": 61,
   "id": "f06083da-8d97-47a8-be6d-5a01a8296a09",
   "metadata": {},
   "outputs": [
    {
     "name": "stdout",
     "output_type": "stream",
     "text": [
      "[ 4 10 18]\n"
     ]
    }
   ],
   "source": [
    "#np.multiply\n",
    "import numpy as np\n",
    "a = np.array([1,2,3])\n",
    "b = np.array([4,5,6])\n",
    "new = np.multiply(a,b)\n",
    "print(new)"
   ]
  },
  {
   "cell_type": "code",
   "execution_count": 63,
   "id": "a30361d8-882b-4ee7-b2c1-711fce57792e",
   "metadata": {},
   "outputs": [
    {
     "name": "stdout",
     "output_type": "stream",
     "text": [
      "2.0\n"
     ]
    }
   ],
   "source": [
    "# np.median()\n",
    "import numpy as np\n",
    "a = np.array([1,2,3])\n",
    "new = np.median(a)\n",
    "print(new)"
   ]
  },
  {
   "cell_type": "code",
   "execution_count": 64,
   "id": "30f305de-1378-415d-af6d-40e8d89bf438",
   "metadata": {},
   "outputs": [
    {
     "name": "stdout",
     "output_type": "stream",
     "text": [
      "0.816496580927726\n"
     ]
    }
   ],
   "source": [
    "#np.std\n",
    "import numpy as np\n",
    "a = np.array([1,2,3])\n",
    "new = np.std(a)\n",
    "print(new)"
   ]
  },
  {
   "cell_type": "code",
   "execution_count": 65,
   "id": "6fb65c1b-f8f0-4fee-ad5e-619afe1c9094",
   "metadata": {},
   "outputs": [
    {
     "name": "stdout",
     "output_type": "stream",
     "text": [
      "0.6666666666666666\n"
     ]
    }
   ],
   "source": [
    "#np.var()\n",
    "import numpy as np\n",
    "a = np.array([1,2,3])\n",
    "new = np.var(a)\n",
    "print(new)"
   ]
  },
  {
   "cell_type": "code",
   "execution_count": 66,
   "id": "b6cd5353-f1e9-4743-a7e5-40dd7f110eab",
   "metadata": {},
   "outputs": [
    {
     "name": "stdout",
     "output_type": "stream",
     "text": [
      "1\n"
     ]
    }
   ],
   "source": [
    "# np.min()\n",
    "import numpy as np\n",
    "a = np.array([1,2,3])\n",
    "new = np.min(a)\n",
    "print(new)"
   ]
  },
  {
   "cell_type": "code",
   "execution_count": 67,
   "id": "d4d9aaaa-f718-4427-8355-1c8fce23bfb1",
   "metadata": {},
   "outputs": [
    {
     "name": "stdout",
     "output_type": "stream",
     "text": [
      "3\n"
     ]
    }
   ],
   "source": [
    "# np.max()\n",
    "import numpy as np\n",
    "a = np.array([1,2,3])\n",
    "new = np.max(a)\n",
    "print(new)"
   ]
  },
  {
   "cell_type": "markdown",
   "id": "c5608b98-f722-4066-9505-693348526199",
   "metadata": {},
   "source": [
    "## linear algebra fuction"
   ]
  },
  {
   "cell_type": "code",
   "execution_count": 69,
   "id": "8d28c0c9-e526-4bf7-aa1f-73101f2c51be",
   "metadata": {},
   "outputs": [
    {
     "name": "stdout",
     "output_type": "stream",
     "text": [
      "32\n"
     ]
    }
   ],
   "source": [
    "#np.matmul()\n",
    "import numpy as np\n",
    "\n",
    "a = np.array([1, 2, 3])\n",
    "b = np.array([4, 5, 6])\n",
    "\n",
    "result = np.matmul(a, b)\n",
    "print(result) \n"
   ]
  },
  {
   "cell_type": "code",
   "execution_count": 70,
   "id": "e4463e84-4cbf-4e2f-b24a-e1386d1060d4",
   "metadata": {},
   "outputs": [
    {
     "name": "stdout",
     "output_type": "stream",
     "text": [
      "32\n"
     ]
    }
   ],
   "source": [
    "#np.dot()\n",
    "import numpy as np\n",
    "\n",
    "a = np.array([1, 2, 3])\n",
    "b = np.array([4, 5, 6])\n",
    "\n",
    "result = np.dot(a, b)\n",
    "print(result)  # Output: 32\n"
   ]
  },
  {
   "cell_type": "code",
   "execution_count": null,
   "id": "22b54d2a-3eca-4883-86e6-1ccd870bc478",
   "metadata": {},
   "outputs": [],
   "source": []
  }
 ],
 "metadata": {
  "kernelspec": {
   "display_name": "Python 3 (ipykernel)",
   "language": "python",
   "name": "python3"
  },
  "language_info": {
   "codemirror_mode": {
    "name": "ipython",
    "version": 3
   },
   "file_extension": ".py",
   "mimetype": "text/x-python",
   "name": "python",
   "nbconvert_exporter": "python",
   "pygments_lexer": "ipython3",
   "version": "3.13.1"
  }
 },
 "nbformat": 4,
 "nbformat_minor": 5
}
